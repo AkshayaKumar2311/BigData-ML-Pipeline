{
 "cells": [
  {
   "cell_type": "markdown",
   "metadata": {},
   "source": [
    "## 1. Data preparation and exploration (35%)\n",
    "\n",
    "### 1.1 Creating Spark Session (4%)"
   ]
  },
  {
   "cell_type": "code",
   "execution_count": 1,
   "metadata": {},
   "outputs": [],
   "source": [
    "# Import SparkConf class into program\n",
    "from pyspark import SparkConf\n",
    "\n",
    "# local[*]: run Spark in local mode with as many working processors as logical cores on your machine\n",
    "# If we want Spark to run locally with 'k' worker threads, we can specify as \"local[k]\".\n",
    "master = \"local[*]\"\n",
    "\n",
    "# The `appName` field is a name to be shown on the Spark cluster UI page\n",
    "app_name = \"31021301_FIT5202_assign_2A\"\n",
    "\n",
    "# Setup configuration parameters for Spark and changing minimum of 2 partitions when reading each file in Spark SQL\n",
    "spark_conf = SparkConf().setMaster(master).setAppName(app_name).set(\"spark.sql.files.maxPartitionBytes\",33554432)\n",
    "\n",
    "# Import SparkContext and SparkSession classes\n",
    "from pyspark import SparkContext # Spark\n",
    "from pyspark.sql import SparkSession # Spark SQL\n",
    "\n",
    "# Using SparkSession\n",
    "spark = SparkSession.builder.config(conf=spark_conf).getOrCreate()\n",
    "sc = spark.sparkContext\n",
    "sc.setLogLevel('ERROR')"
   ]
  },
  {
   "cell_type": "markdown",
   "metadata": {},
   "source": [
    "### 1.2 Loading the data (16%)\n",
    "\n",
    "#### 1. Load each activity data into a Spark dataframe and cache the data. Then print out the row count of each dataframe.\n",
    "\n",
    "#### 1.2.1.1 Loading the Data Set and checking the schema for the data set"
   ]
  },
  {
   "cell_type": "code",
   "execution_count": 2,
   "metadata": {},
   "outputs": [],
   "source": [
    "#reading the Memory activity CSV files\n",
    "memory_df = spark.read.csv(['linux_memory_1.csv','linux_memory_2.csv'], header=True, inferSchema=True)\n",
    "\n",
    "#reading the Process activity CSV files\n",
    "process_df = spark.read.csv(['linux_process_1.csv','linux_process_2.csv'], header=True, inferSchema=True)"
   ]
  },
  {
   "cell_type": "code",
   "execution_count": 3,
   "metadata": {},
   "outputs": [
    {
     "name": "stdout",
     "output_type": "stream",
     "text": [
      "Total number of partitions for Memory data frame are :4\n",
      "Total number of partitions for Process data frame are :4\n"
     ]
    }
   ],
   "source": [
    "#Printing the total number of partitions for memory data frame\n",
    "print(\"Total number of partitions for Memory data frame are :{}\".format(memory_df.rdd.getNumPartitions()))\n",
    "\n",
    "#Printing the total number of partitions for process data frame\n",
    "print(\"Total number of partitions for Process data frame are :{}\".format(process_df.rdd.getNumPartitions()))"
   ]
  },
  {
   "cell_type": "markdown",
   "metadata": {},
   "source": [
    "#### 1.2.1.2 Cache the data sets"
   ]
  },
  {
   "cell_type": "code",
   "execution_count": 4,
   "metadata": {},
   "outputs": [
    {
     "data": {
      "text/plain": [
       "DataFrame[ts: int, PID: int, TRUN: int, TSLPI: int, TSLPU: int, POLI: string, NICE: int, PRI: int, RTPR: int, CPUNR: int, Status: string, EXC: int, State: string, CPU: double, CMD: string, attack: int, type: string]"
      ]
     },
     "execution_count": 4,
     "metadata": {},
     "output_type": "execute_result"
    }
   ],
   "source": [
    "#memory_df = memory_df.cache()\n",
    "memory_df.cache()\n",
    "#process_df = process_df.cache()\n",
    "process_df.cache()"
   ]
  },
  {
   "cell_type": "markdown",
   "metadata": {},
   "source": [
    "#### 1.2.1.3 Printing row count for each data frame"
   ]
  },
  {
   "cell_type": "code",
   "execution_count": 5,
   "metadata": {},
   "outputs": [
    {
     "name": "stdout",
     "output_type": "stream",
     "text": [
      "The row count for the Memory data frame is :  2000000  and the column count for the memory data frame is :  13\n",
      "The shape of the memory data frame is  (2000000, 13)\n",
      "\n",
      "The row count for the Process data frame is :  1927968  and the column count for the process data frame is :  17\n",
      "The shape of the Process data frame is  (1927968, 17)\n"
     ]
    }
   ],
   "source": [
    "print(\"The row count for the Memory data frame is : \",memory_df.count(),\" and the column count for the memory data frame is : \",len(memory_df.columns))\n",
    "\n",
    "#printing the shape of memory data frame\n",
    "print(\"The shape of the memory data frame is \",(memory_df.count(), len(memory_df.columns)))\n",
    "\n",
    "print(\"\\nThe row count for the Process data frame is : \",process_df.count(),\" and the column count for the process data frame is : \",len(process_df.columns))\n",
    "\n",
    "#printing the shape of process data frame\n",
    "print(\"The shape of the Process data frame is \",(process_df.count(), len(process_df.columns)))"
   ]
  },
  {
   "cell_type": "code",
   "execution_count": 6,
   "metadata": {},
   "outputs": [
    {
     "name": "stdout",
     "output_type": "stream",
     "text": [
      "First 10 records from the Memory data frame is as below : \n",
      "+----------+----+------+------+------+-----+-----+-----+-----+----+--------------+------+------+\n",
      "|        ts| PID|MINFLT|MAJFLT|VSTEXT|VSIZE|RSIZE|VGROW|RGROW| MEM|           CMD|attack|  type|\n",
      "+----------+----+------+------+------+-----+-----+-----+-----+----+--------------+------+------+\n",
      "|1554218915|3257|859502|    54|   193|  2.0|519.1|    2|519.1|0.14|   Web-Content|     0|normal|\n",
      "|1554218920|3197|247354|    95|   193|  2.6|  402|  2.6|  402|0.11|       firefox|     0|normal|\n",
      "|1554218925|1442| 57311|    33|  2219|764.2|290.7|764.2|290.7|0.08|          Xorg|     0|normal|\n",
      "|1554218930|3119| 68006|    17|  3063|725.9|116.8|725.9|116.8|0.03|update-manager|     0|normal|\n",
      "|1554218935|2797| 72300|    69|  1350|  1.4|109.6|  1.4|109.6|0.03|      nautilus|     0|normal|\n",
      "|1554218940|2774| 48095|    61|    10|  1.3|88680|  1.3|88680|0.02|        compiz|     0|normal|\n",
      "|1554218945|3346| 14531|     1|   193|  1.5|55404|  1.5|55404|0.01|   Web-Content|     0|normal|\n",
      "|1554218950|1483|  8898|     6| 10415|537.4|54344|537.4|54344|0.01|        mysqld|     0|normal|\n",
      "|1554218955|2788| 12014|    10|     4|857.6|46736|857.6|46736|0.01|evolution-cale|     0|normal|\n",
      "|1554218960|3651|  9905|     0|   545|802.9|35164|802.9|35164|0.01|         gedit|     0|normal|\n",
      "+----------+----+------+------+------+-----+-----+-----+-----+----+--------------+------+------+\n",
      "only showing top 10 rows\n",
      "\n",
      "\n",
      "First 10 records from the Process data frame is as below : \n",
      "+----------+----+----+-----+-----+----+----+---+----+-----+------+---+-----+----+--------------+------+------+\n",
      "|        ts| PID|TRUN|TSLPI|TSLPU|POLI|NICE|PRI|RTPR|CPUNR|Status|EXC|State| CPU|           CMD|attack|  type|\n",
      "+----------+----+----+-----+-----+----+----+---+----+-----+------+---+-----+----+--------------+------+------+\n",
      "|1554218915|3257|   0|   23|    0|norm|   0|120|   0|    2|     N|  0|    S|0.13|   Web-Content|     0|normal|\n",
      "|1554218920|1442|   0|    1|    0|norm|   0|120|   0|    0|     N|  0|    S|0.09|          Xorg|     0|normal|\n",
      "|1554218925|3197|   0|   63|    0|norm|   0|120|   0|    3|     N|  0|    S|0.06|       firefox|     0|normal|\n",
      "|1554218930|2774|   0|    8|    0|norm|   0|120|   0|    0|     N|  0|    S|0.06|        compiz|     0|normal|\n",
      "|1554218935|2797|   0|    5|    0|norm|   0|120|   0|    0|     N|  0|    S|0.04|      nautilus|     0|normal|\n",
      "|1554218940|2801|   0|    8|    0|norm|   0|120|   0|    1|     N|  0|    S|0.01| tracker-store|     0|normal|\n",
      "|1554218945|3119|   0|    3|    0|norm|  10|130|   0|    0|     N|  0|    S|0.01|update-manager|     0|normal|\n",
      "|1554218950|2547|   0|    3|    0|norm|   0|120|   0|    2|     N|  0|    S| 0.0|unity-panel-se|     0|normal|\n",
      "|1554218955|2533|   0|    4|    0|norm|   0|120|   0|    1|     N|  0|    S| 0.0|   hud-service|     0|normal|\n",
      "|1554218960|2949|   0|    2|    0|norm|   0|120|   0|    0|     N|  0|    S| 0.0|gvfsd-metadata|     0|normal|\n",
      "+----------+----+----+-----+-----+----+----+---+----+-----+------+---+-----+----+--------------+------+------+\n",
      "only showing top 10 rows\n",
      "\n"
     ]
    }
   ],
   "source": [
    "#view first 10 records for memory data frame \n",
    "print(\"First 10 records from the Memory data frame is as below : \")\n",
    "memory_df.show(10)\n",
    "\n",
    "#view first 10 records for process data frame \n",
    "print(\"\\nFirst 10 records from the Process data frame is as below : \")\n",
    "process_df.show(10)"
   ]
  },
  {
   "cell_type": "code",
   "execution_count": 7,
   "metadata": {},
   "outputs": [
    {
     "name": "stdout",
     "output_type": "stream",
     "text": [
      "Schema for the Memory data frame is as below : \n",
      "root\n",
      " |-- ts: integer (nullable = true)\n",
      " |-- PID: integer (nullable = true)\n",
      " |-- MINFLT: string (nullable = true)\n",
      " |-- MAJFLT: string (nullable = true)\n",
      " |-- VSTEXT: string (nullable = true)\n",
      " |-- VSIZE: double (nullable = true)\n",
      " |-- RSIZE: string (nullable = true)\n",
      " |-- VGROW: string (nullable = true)\n",
      " |-- RGROW: string (nullable = true)\n",
      " |-- MEM: double (nullable = true)\n",
      " |-- CMD: string (nullable = true)\n",
      " |-- attack: integer (nullable = true)\n",
      " |-- type: string (nullable = true)\n",
      "\n",
      "Schema for the Process data frame is as below : \n",
      "root\n",
      " |-- ts: integer (nullable = true)\n",
      " |-- PID: integer (nullable = true)\n",
      " |-- TRUN: integer (nullable = true)\n",
      " |-- TSLPI: integer (nullable = true)\n",
      " |-- TSLPU: integer (nullable = true)\n",
      " |-- POLI: string (nullable = true)\n",
      " |-- NICE: integer (nullable = true)\n",
      " |-- PRI: integer (nullable = true)\n",
      " |-- RTPR: integer (nullable = true)\n",
      " |-- CPUNR: integer (nullable = true)\n",
      " |-- Status: string (nullable = true)\n",
      " |-- EXC: integer (nullable = true)\n",
      " |-- State: string (nullable = true)\n",
      " |-- CPU: double (nullable = true)\n",
      " |-- CMD: string (nullable = true)\n",
      " |-- attack: integer (nullable = true)\n",
      " |-- type: string (nullable = true)\n",
      "\n"
     ]
    }
   ],
   "source": [
    "#view the memory data frame schema\n",
    "print(\"Schema for the Memory data frame is as below : \")\n",
    "memory_df.printSchema()\n",
    "\n",
    "#view the process data frame schema\n",
    "print(\"Schema for the Process data frame is as below : \")\n",
    "process_df.printSchema()"
   ]
  },
  {
   "cell_type": "markdown",
   "metadata": {},
   "source": [
    "+ There are values in the columns 'MINFLT', 'MAJFLT', 'VSTEXT', 'RSIZE', 'VGROW', 'RGROW' like 5.5M, 3K and 45 6,686 9,etc. when read the CSV files.\n",
    "\n",
    "+ The data type of these columns are string, how ever the values in the columns are only numbers. This is because of the above inconsistancy.\n",
    "\n",
    "+ To rectify these, regular expressions are used. \n",
    "\n",
    "+ I found this error when type casting it to integer, there were few null values. But when checked the data set, there were no NULL values. So when reading the data, values like million and K got created and when converted to integer, they were nullified. "
   ]
  },
  {
   "cell_type": "code",
   "execution_count": 8,
   "metadata": {},
   "outputs": [],
   "source": [
    "#importing the required library \n",
    "#isnan to check if value is missing \n",
    "#when to check the condition\n",
    "#count to count the number of records missing\n",
    "#sql function col\n",
    "#Regex_replace to match the pattern and change the values\n",
    "from pyspark.sql.functions import isnan, regexp_replace,col,when,count\n",
    " \n",
    "#In the column VGROW, if there are any \" \" (spaces), replacing them with blanks\n",
    "memory_df = memory_df.withColumn('VGROW', regexp_replace('VGROW',  \" \", \"\"))\n",
    "\n",
    "#In the column RGROW, if there are any \" \" (spaces), replacing them with blanks\n",
    "memory_df = memory_df.withColumn('RGROW', regexp_replace('RGROW',  \" \", \"\"))"
   ]
  },
  {
   "cell_type": "code",
   "execution_count": 9,
   "metadata": {},
   "outputs": [],
   "source": [
    "#In the columns 'MINFLT', 'MAJFLT', 'VSTEXT', 'RSIZE', 'VGROW', 'RGROW'\n",
    "# if the word K is present, replacing it with 000.\n",
    "# if the word M is present, replacing it with 00000.\n",
    "# Here only 5 0's are beiing replaced because, if a \".\" is present,\n",
    "# then the dot is removed,(i.e) 2.2M becomes 22M. So only 5 0's are added. \n",
    "\n",
    "#With regular expressions, changing to the required format.\n",
    "memory_df = memory_df.withColumn(\"MINFLT\",regexp_replace(\"MINFLT\",\"K\",\"000\"))\\\n",
    "            .withColumn(\"MINFLT\",when(col(\"MINFLT\").contains('M'),regexp_replace(\"MINFLT\",  \"\\.\", \"\")).otherwise(col(\"MINFLT\")))\\\n",
    "            .withColumn(\"MINFLT\", regexp_replace(\"MINFLT\",  'M', \"00000\"))\\\n",
    "            .withColumn(\"MAJFLT\",regexp_replace(\"MAJFLT\",\"K\",\"000\"))\\\n",
    "            .withColumn(\"MAJFLT\",when(col(\"MAJFLT\").contains('M'),regexp_replace(\"MAJFLT\",  \"\\.\", \"\")).otherwise(col(\"MAJFLT\")))\\\n",
    "            .withColumn(\"MAJFLT\", regexp_replace(\"MAJFLT\",  'M', \"00000\"))\\\n",
    "            .withColumn(\"VSTEXT\",regexp_replace(\"VSTEXT\",\"K\",\"000\"))\\\n",
    "            .withColumn(\"VSTEXT\",when(col(\"VSTEXT\").contains('M'),regexp_replace(\"VSTEXT\",  \"\\.\", \"\")).otherwise(col(\"VSTEXT\")))\\\n",
    "            .withColumn(\"VSTEXT\", regexp_replace(\"VSTEXT\",  'M', \"00000\"))\\\n",
    "            .withColumn(\"RSIZE\",regexp_replace(\"RSIZE\",\"K\",\"000\"))\\\n",
    "            .withColumn(\"RSIZE\",when(col(\"RSIZE\").contains('M'),regexp_replace(\"RSIZE\",  \"\\.\", \"\")).otherwise(col(\"RSIZE\")))\\\n",
    "            .withColumn(\"RSIZE\", regexp_replace(\"RSIZE\",  'M', \"00000\"))\\\n",
    "            .withColumn(\"VGROW\",regexp_replace(\"VGROW\",\"K\",\"000\"))\\\n",
    "            .withColumn(\"VGROW\",when(col(\"VGROW\").contains('M'),regexp_replace(\"VGROW\",  \"\\.\", \"\")).otherwise(col(\"VGROW\")))\\\n",
    "            .withColumn(\"VGROW\", regexp_replace(\"VGROW\",  'M', \"00000\"))\\\n",
    "            .withColumn(\"RGROW\",regexp_replace(\"RGROW\",\"K\",\"000\"))\\\n",
    "            .withColumn(\"RGROW\",when(col(\"RGROW\").contains('M'),regexp_replace(\"RGROW\",  \"\\.\", \"\")).otherwise(col(\"RGROW\")))\\\n",
    "            .withColumn(\"RGROW\", regexp_replace(\"RGROW\",  'M', \"00000\"))"
   ]
  },
  {
   "cell_type": "markdown",
   "metadata": {},
   "source": [
    "+ From the above output, it can be seen that the **data type for the process data matches exactly with the meta data** file given. However, the data type for the columns **'MINFLT', 'MAJFLT', 'VSTEXT', 'RSIZE', 'VGROW', 'RGROW' in memory data does not match with the meta data** file. \n",
    "\n",
    "+ So making appropirate changes to the dat type of the column."
   ]
  },
  {
   "cell_type": "code",
   "execution_count": 10,
   "metadata": {},
   "outputs": [
    {
     "name": "stdout",
     "output_type": "stream",
     "text": [
      "Schema for the Memory data frame is as below : \n",
      "root\n",
      " |-- ts: integer (nullable = true)\n",
      " |-- PID: integer (nullable = true)\n",
      " |-- MINFLT: integer (nullable = true)\n",
      " |-- MAJFLT: integer (nullable = true)\n",
      " |-- VSTEXT: integer (nullable = true)\n",
      " |-- VSIZE: double (nullable = true)\n",
      " |-- RSIZE: integer (nullable = true)\n",
      " |-- VGROW: integer (nullable = true)\n",
      " |-- RGROW: integer (nullable = true)\n",
      " |-- MEM: double (nullable = true)\n",
      " |-- CMD: string (nullable = true)\n",
      " |-- attack: integer (nullable = true)\n",
      " |-- type: string (nullable = true)\n",
      "\n",
      "Schema for the Memory data frame is as below : \n",
      "+----------+----+------+------+------+-----+-----+-----+-----+----+--------------+------+------+\n",
      "|        ts| PID|MINFLT|MAJFLT|VSTEXT|VSIZE|RSIZE|VGROW|RGROW| MEM|           CMD|attack|  type|\n",
      "+----------+----+------+------+------+-----+-----+-----+-----+----+--------------+------+------+\n",
      "|1554218915|3257|859502|    54|   193|  2.0|  519|    2|  519|0.14|   Web-Content|     0|normal|\n",
      "|1554218920|3197|247354|    95|   193|  2.6|  402|    2|  402|0.11|       firefox|     0|normal|\n",
      "|1554218925|1442| 57311|    33|  2219|764.2|  290|  764|  290|0.08|          Xorg|     0|normal|\n",
      "|1554218930|3119| 68006|    17|  3063|725.9|  116|  725|  116|0.03|update-manager|     0|normal|\n",
      "|1554218935|2797| 72300|    69|  1350|  1.4|  109|    1|  109|0.03|      nautilus|     0|normal|\n",
      "|1554218940|2774| 48095|    61|    10|  1.3|88680|    1|88680|0.02|        compiz|     0|normal|\n",
      "|1554218945|3346| 14531|     1|   193|  1.5|55404|    1|55404|0.01|   Web-Content|     0|normal|\n",
      "|1554218950|1483|  8898|     6| 10415|537.4|54344|  537|54344|0.01|        mysqld|     0|normal|\n",
      "|1554218955|2788| 12014|    10|     4|857.6|46736|  857|46736|0.01|evolution-cale|     0|normal|\n",
      "|1554218960|3651|  9905|     0|   545|802.9|35164|  802|35164|0.01|         gedit|     0|normal|\n",
      "+----------+----+------+------+------+-----+-----+-----+-----+----+--------------+------+------+\n",
      "only showing top 10 rows\n",
      "\n"
     ]
    }
   ],
   "source": [
    "#importing the IntergerType package to change the data type of the column to 'integer'\n",
    "from pyspark.sql.types import IntegerType\n",
    "\n",
    "#Changing the columns to integer type\n",
    "memory_df = memory_df.withColumn(\"MINFLT\", memory_df[\"MINFLT\"].cast(IntegerType()))\n",
    "memory_df = memory_df.withColumn(\"MAJFLT\", memory_df[\"MAJFLT\"].cast(IntegerType()))\n",
    "memory_df = memory_df.withColumn(\"VSTEXT\", memory_df[\"VSTEXT\"].cast(IntegerType()))\n",
    "memory_df = memory_df.withColumn(\"RSIZE\", memory_df[\"RSIZE\"].cast(IntegerType()))\n",
    "memory_df = memory_df.withColumn(\"VGROW\", memory_df[\"VGROW\"].cast(IntegerType()))\n",
    "memory_df = memory_df.withColumn(\"RGROW\", memory_df[\"RGROW\"].cast(IntegerType()))\n",
    "\n",
    "#view the memory data frame schema after changing the data type of some columns\n",
    "print(\"Schema for the Memory data frame is as below : \")\n",
    "memory_df.printSchema()\n",
    "\n",
    "#view top 10 records for memory data frame \n",
    "print(\"Schema for the Memory data frame is as below : \")\n",
    "memory_df.show(10)"
   ]
  },
  {
   "cell_type": "markdown",
   "metadata": {},
   "source": [
    "### 1.2.2 For each column in each dataframe above, Check the null data (if any) and print out the corresponding count in each column"
   ]
  },
  {
   "cell_type": "code",
   "execution_count": 11,
   "metadata": {},
   "outputs": [
    {
     "name": "stdout",
     "output_type": "stream",
     "text": [
      "Below are the missing values for each column in the Memory data frame : \n",
      "+---+---+------+------+------+-----+-----+-----+-----+---+---+------+----+\n",
      "| ts|PID|MINFLT|MAJFLT|VSTEXT|VSIZE|RSIZE|VGROW|RGROW|MEM|CMD|attack|type|\n",
      "+---+---+------+------+------+-----+-----+-----+-----+---+---+------+----+\n",
      "|  0|  0|     0|     0|     0|    0|    0|    0|    0|  0|  0|     0|   0|\n",
      "+---+---+------+------+------+-----+-----+-----+-----+---+---+------+----+\n",
      "\n",
      "Below are the missing values for each column in the Process data frame : \n",
      "+---+---+----+-----+-----+----+----+---+----+-----+------+---+-----+---+---+------+----+\n",
      "| ts|PID|TRUN|TSLPI|TSLPU|POLI|NICE|PRI|RTPR|CPUNR|Status|EXC|State|CPU|CMD|attack|type|\n",
      "+---+---+----+-----+-----+----+----+---+----+-----+------+---+-----+---+---+------+----+\n",
      "|  0|  0|   0|    0|    0|   0|   0|  0|   0|    0|     0|  0|    0|  0|  0|     0|   0|\n",
      "+---+---+----+-----+-----+----+----+---+----+-----+------+---+-----+---+---+------+----+\n",
      "\n"
     ]
    }
   ],
   "source": [
    "#Checking the missing values column wise in the memory data frame\n",
    "print(\"Below are the missing values for each column in the Memory data frame : \")\n",
    "memory_df.select([count(when(isnan(c) | col(c).isNull(), c)).alias(c) for c in memory_df.columns]).show()\n",
    "\n",
    "\n",
    "#Checking the missing values column wise in the process data frame \n",
    "print(\"Below are the missing values for each column in the Process data frame : \")\n",
    "process_df.select([count(when(isnan(c) | col(c).isNull(), c)).alias(c) for c in process_df.columns]).show()"
   ]
  },
  {
   "cell_type": "markdown",
   "metadata": {},
   "source": [
    "+ From the above Output, it can be seen that there are no null values in any of the columns in both the data frames. \n",
    "\n",
    "### 1.3 Exploring the data (15%)\n",
    "\n",
    "#### 1. Show the count of attack and non-attack in each activity based on the column “attack”, then show the count of each kind of attack in process activity based on the column “type”.\n",
    "\n",
    "#### Memory Data Frame\n"
   ]
  },
  {
   "cell_type": "code",
   "execution_count": 12,
   "metadata": {},
   "outputs": [
    {
     "name": "stdout",
     "output_type": "stream",
     "text": [
      "Based on the column 'Attack', below are the number of attacks(1) and non-attacks(0) in the memory data frame: \n",
      "+------+-------+\n",
      "|attack|  count|\n",
      "+------+-------+\n",
      "|     1| 205623|\n",
      "|     0|1794377|\n",
      "+------+-------+\n",
      "\n"
     ]
    }
   ],
   "source": [
    "#grouping the column attack and getting the count \n",
    "memory_attack_count = memory_df.groupBy(\"attack\").count()\n",
    "\n",
    "#displaying the count\n",
    "print(\"Based on the column 'Attack', below are the number of attacks(1) and non-attacks(0) in the memory data frame: \")\n",
    "memory_attack_count.show()"
   ]
  },
  {
   "cell_type": "markdown",
   "metadata": {},
   "source": [
    "#### Process Data Frame"
   ]
  },
  {
   "cell_type": "code",
   "execution_count": 13,
   "metadata": {},
   "outputs": [
    {
     "name": "stdout",
     "output_type": "stream",
     "text": [
      "Based on the column 'Attack', below are the number of attacks(1) and non-attacks(0) in the Process data frame: \n",
      "+------+-------+\n",
      "|attack|  count|\n",
      "+------+-------+\n",
      "|     1| 291364|\n",
      "|     0|1636604|\n",
      "+------+-------+\n",
      "\n",
      "Based on the column 'type', below are the  count of each kind of attack in process activity: \n",
      "+---------+-------+\n",
      "|     type|  count|\n",
      "+---------+-------+\n",
      "|      xss|  17759|\n",
      "| password|  51409|\n",
      "| scanning|  38449|\n",
      "|     ddos|  71603|\n",
      "|   normal|1636604|\n",
      "|     mitm|    112|\n",
      "|injection|  41311|\n",
      "|      dos|  70721|\n",
      "+---------+-------+\n",
      "\n"
     ]
    }
   ],
   "source": [
    "#grouping the column attack and getting the count \n",
    "process_attack_count = process_df.groupBy(\"attack\").count()\n",
    "\n",
    "#grouping the column type and getting the count \n",
    "process_type_count = process_df.groupBy(\"type\").count()\n",
    "\n",
    "#displaying the count\n",
    "print(\"Based on the column 'Attack', below are the number of attacks(1) and non-attacks(0) in the Process data frame: \")\n",
    "process_attack_count.show()\n",
    "\n",
    "#displaying the count\n",
    "print(\"Based on the column 'type', below are the  count of each kind of attack in process activity: \")\n",
    "process_type_count.show()"
   ]
  },
  {
   "cell_type": "markdown",
   "metadata": {},
   "source": [
    "**Memory Attack Class:**\n",
    "\n",
    "+ **YES**, there is class imbalance in the attack class. The number of **attacks(1) is 205623** while the number of **non-attacks(0) is 1794377** which means that the number of non-attack events are more than 8 times than the attack events. \n",
    "\n",
    "**Process Attack Class:**\n",
    "\n",
    "+ **YES**, there is class imbalance in the attack class. The number of **attacks(1) is 291364** while the number of **non-attacks(0) is 1636604** which means that the number of non-attack events are more than 5 times than the attack events. \n",
    "\n",
    "\n",
    "+ This is a problem when running regressions and making predictions because, if there are uneven class distribution or unbalance class distributions like in this scenario, there might be some biased output while prediction since the model has been trained to be more towards one class.\n",
    "\n",
    "+ For such scenarios, either over-sampling or under-sampling must be done. \n",
    "    \n",
    "    + Over sampling is the scenario where dummy records are added to class which is having less count while undersampling is reducing the records of the class which has more records."
   ]
  },
  {
   "cell_type": "markdown",
   "metadata": {},
   "source": [
    "#### For each numeric feature in each activity, show the basic statistics (including count, mean, stddev, min, max);"
   ]
  },
  {
   "cell_type": "code",
   "execution_count": 14,
   "metadata": {},
   "outputs": [
    {
     "name": "stdout",
     "output_type": "stream",
     "text": [
      "Below are the summary statistics for the Memory data frame : \n"
     ]
    },
    {
     "data": {
      "text/html": [
       "<div>\n",
       "<style scoped>\n",
       "    .dataframe tbody tr th:only-of-type {\n",
       "        vertical-align: middle;\n",
       "    }\n",
       "\n",
       "    .dataframe tbody tr th {\n",
       "        vertical-align: top;\n",
       "    }\n",
       "\n",
       "    .dataframe thead th {\n",
       "        text-align: right;\n",
       "    }\n",
       "</style>\n",
       "<table border=\"1\" class=\"dataframe\">\n",
       "  <thead>\n",
       "    <tr style=\"text-align: right;\">\n",
       "      <th></th>\n",
       "      <th>summary</th>\n",
       "      <th>ts</th>\n",
       "      <th>PID</th>\n",
       "      <th>MINFLT</th>\n",
       "      <th>MAJFLT</th>\n",
       "      <th>VSTEXT</th>\n",
       "      <th>VSIZE</th>\n",
       "      <th>RSIZE</th>\n",
       "      <th>VGROW</th>\n",
       "      <th>RGROW</th>\n",
       "      <th>MEM</th>\n",
       "      <th>attack</th>\n",
       "    </tr>\n",
       "  </thead>\n",
       "  <tbody>\n",
       "    <tr>\n",
       "      <th>0</th>\n",
       "      <td>count</td>\n",
       "      <td>2000000</td>\n",
       "      <td>2000000</td>\n",
       "      <td>2000000</td>\n",
       "      <td>2000000</td>\n",
       "      <td>2000000</td>\n",
       "      <td>2000000</td>\n",
       "      <td>2000000</td>\n",
       "      <td>2000000</td>\n",
       "      <td>2000000</td>\n",
       "      <td>2000000</td>\n",
       "      <td>2000000</td>\n",
       "    </tr>\n",
       "    <tr>\n",
       "      <th>1</th>\n",
       "      <td>mean</td>\n",
       "      <td>1.55624581707609E9</td>\n",
       "      <td>4999.360446</td>\n",
       "      <td>983.344344</td>\n",
       "      <td>987846.478731</td>\n",
       "      <td>46453.2681675</td>\n",
       "      <td>4496.419966448755</td>\n",
       "      <td>23722.8703705</td>\n",
       "      <td>984.466554</td>\n",
       "      <td>483.174527</td>\n",
       "      <td>0.003385165000001682</td>\n",
       "      <td>0.1028115</td>\n",
       "    </tr>\n",
       "    <tr>\n",
       "      <th>2</th>\n",
       "      <td>stddev</td>\n",
       "      <td>984463.3682899477</td>\n",
       "      <td>4887.313351921473</td>\n",
       "      <td>19229.610980642334</td>\n",
       "      <td>1.484287424532396E7</td>\n",
       "      <td>658730.2055745376</td>\n",
       "      <td>9046.338093399043</td>\n",
       "      <td>1986383.1810906194</td>\n",
       "      <td>86174.82585473059</td>\n",
       "      <td>1491.47614701204</td>\n",
       "      <td>0.010943425779985876</td>\n",
       "      <td>0.30371259701965325</td>\n",
       "    </tr>\n",
       "    <tr>\n",
       "      <th>3</th>\n",
       "      <td>min</td>\n",
       "      <td>1554216855</td>\n",
       "      <td>1007</td>\n",
       "      <td>0</td>\n",
       "      <td>0</td>\n",
       "      <td>0</td>\n",
       "      <td>0.0</td>\n",
       "      <td>-9728</td>\n",
       "      <td>-9392000</td>\n",
       "      <td>0</td>\n",
       "      <td>0.0</td>\n",
       "      <td>0</td>\n",
       "    </tr>\n",
       "    <tr>\n",
       "      <th>4</th>\n",
       "      <td>max</td>\n",
       "      <td>1558355716</td>\n",
       "      <td>53096</td>\n",
       "      <td>8050000</td>\n",
       "      <td>224400000</td>\n",
       "      <td>11200000</td>\n",
       "      <td>88040.0</td>\n",
       "      <td>224400000</td>\n",
       "      <td>11160000</td>\n",
       "      <td>98920</td>\n",
       "      <td>0.44</td>\n",
       "      <td>1</td>\n",
       "    </tr>\n",
       "  </tbody>\n",
       "</table>\n",
       "</div>"
      ],
      "text/plain": [
       "  summary                  ts                PID              MINFLT  \\\n",
       "0   count             2000000            2000000             2000000   \n",
       "1    mean  1.55624581707609E9        4999.360446          983.344344   \n",
       "2  stddev   984463.3682899477  4887.313351921473  19229.610980642334   \n",
       "3     min          1554216855               1007                   0   \n",
       "4     max          1558355716              53096             8050000   \n",
       "\n",
       "                MAJFLT             VSTEXT              VSIZE  \\\n",
       "0              2000000            2000000            2000000   \n",
       "1        987846.478731      46453.2681675  4496.419966448755   \n",
       "2  1.484287424532396E7  658730.2055745376  9046.338093399043   \n",
       "3                    0                  0                0.0   \n",
       "4            224400000           11200000            88040.0   \n",
       "\n",
       "                RSIZE              VGROW             RGROW  \\\n",
       "0             2000000            2000000           2000000   \n",
       "1       23722.8703705         984.466554        483.174527   \n",
       "2  1986383.1810906194  86174.82585473059  1491.47614701204   \n",
       "3               -9728           -9392000                 0   \n",
       "4           224400000           11160000             98920   \n",
       "\n",
       "                    MEM               attack  \n",
       "0               2000000              2000000  \n",
       "1  0.003385165000001682            0.1028115  \n",
       "2  0.010943425779985876  0.30371259701965325  \n",
       "3                   0.0                    0  \n",
       "4                  0.44                    1  "
      ]
     },
     "execution_count": 14,
     "metadata": {},
     "output_type": "execute_result"
    }
   ],
   "source": [
    "#Summary Statistics\n",
    "\n",
    "#Filtering only the numerical data type columns from the memory data frame.\n",
    "only_numbers_memory = memory_df.select([item[0] for item in memory_df.dtypes if not item[1].startswith('string')])\n",
    "\n",
    "#Printing the summary statistics\n",
    "print(\"Below are the summary statistics for the Memory data frame : \")\n",
    "only_numbers_memory.describe().toPandas().head()"
   ]
  },
  {
   "cell_type": "code",
   "execution_count": 15,
   "metadata": {},
   "outputs": [
    {
     "name": "stdout",
     "output_type": "stream",
     "text": [
      "Below are the summary statistics for the Process data frame : \n"
     ]
    },
    {
     "data": {
      "text/html": [
       "<div>\n",
       "<style scoped>\n",
       "    .dataframe tbody tr th:only-of-type {\n",
       "        vertical-align: middle;\n",
       "    }\n",
       "\n",
       "    .dataframe tbody tr th {\n",
       "        vertical-align: top;\n",
       "    }\n",
       "\n",
       "    .dataframe thead th {\n",
       "        text-align: right;\n",
       "    }\n",
       "</style>\n",
       "<table border=\"1\" class=\"dataframe\">\n",
       "  <thead>\n",
       "    <tr style=\"text-align: right;\">\n",
       "      <th></th>\n",
       "      <th>summary</th>\n",
       "      <th>ts</th>\n",
       "      <th>PID</th>\n",
       "      <th>TRUN</th>\n",
       "      <th>TSLPI</th>\n",
       "      <th>TSLPU</th>\n",
       "      <th>NICE</th>\n",
       "      <th>PRI</th>\n",
       "      <th>RTPR</th>\n",
       "      <th>CPUNR</th>\n",
       "      <th>EXC</th>\n",
       "      <th>CPU</th>\n",
       "      <th>attack</th>\n",
       "    </tr>\n",
       "  </thead>\n",
       "  <tbody>\n",
       "    <tr>\n",
       "      <th>0</th>\n",
       "      <td>count</td>\n",
       "      <td>1927968</td>\n",
       "      <td>1927968</td>\n",
       "      <td>1927968</td>\n",
       "      <td>1927968</td>\n",
       "      <td>1927968</td>\n",
       "      <td>1927968</td>\n",
       "      <td>1927968</td>\n",
       "      <td>1927968</td>\n",
       "      <td>1927968</td>\n",
       "      <td>1927968</td>\n",
       "      <td>1927968</td>\n",
       "      <td>1927968</td>\n",
       "    </tr>\n",
       "    <tr>\n",
       "      <th>1</th>\n",
       "      <td>mean</td>\n",
       "      <td>1.5563198311840394E9</td>\n",
       "      <td>5068.709770597852</td>\n",
       "      <td>0.0632287465352122</td>\n",
       "      <td>3.508334163222626</td>\n",
       "      <td>3.6100184235422994E-4</td>\n",
       "      <td>4.634469555511295</td>\n",
       "      <td>111.26826741937626</td>\n",
       "      <td>0.0</td>\n",
       "      <td>1.9210142491991569</td>\n",
       "      <td>0.030275398761805176</td>\n",
       "      <td>0.02238527299209388</td>\n",
       "      <td>0.1511249149363475</td>\n",
       "    </tr>\n",
       "    <tr>\n",
       "      <th>2</th>\n",
       "      <td>stddev</td>\n",
       "      <td>771350.0248109627</td>\n",
       "      <td>4987.784329320437</td>\n",
       "      <td>0.247825870904161</td>\n",
       "      <td>6.988459728531793</td>\n",
       "      <td>0.04421874419214597</td>\n",
       "      <td>8.40318986475207</td>\n",
       "      <td>22.624445062102893</td>\n",
       "      <td>0.0</td>\n",
       "      <td>1.5274047225903056</td>\n",
       "      <td>1.4619498567691878</td>\n",
       "      <td>0.13628943687184275</td>\n",
       "      <td>0.35817068774739264</td>\n",
       "    </tr>\n",
       "    <tr>\n",
       "      <th>3</th>\n",
       "      <td>min</td>\n",
       "      <td>1554216855</td>\n",
       "      <td>1007</td>\n",
       "      <td>0</td>\n",
       "      <td>0</td>\n",
       "      <td>0</td>\n",
       "      <td>0</td>\n",
       "      <td>0</td>\n",
       "      <td>0</td>\n",
       "      <td>0</td>\n",
       "      <td>0</td>\n",
       "      <td>0.0</td>\n",
       "      <td>0</td>\n",
       "    </tr>\n",
       "    <tr>\n",
       "      <th>4</th>\n",
       "      <td>max</td>\n",
       "      <td>1557593017</td>\n",
       "      <td>53080</td>\n",
       "      <td>12</td>\n",
       "      <td>70</td>\n",
       "      <td>21</td>\n",
       "      <td>20</td>\n",
       "      <td>139</td>\n",
       "      <td>0</td>\n",
       "      <td>5</td>\n",
       "      <td>127</td>\n",
       "      <td>4.02</td>\n",
       "      <td>1</td>\n",
       "    </tr>\n",
       "  </tbody>\n",
       "</table>\n",
       "</div>"
      ],
      "text/plain": [
       "  summary                    ts                PID                TRUN  \\\n",
       "0   count               1927968            1927968             1927968   \n",
       "1    mean  1.5563198311840394E9  5068.709770597852  0.0632287465352122   \n",
       "2  stddev     771350.0248109627  4987.784329320437   0.247825870904161   \n",
       "3     min            1554216855               1007                   0   \n",
       "4     max            1557593017              53080                  12   \n",
       "\n",
       "               TSLPI                  TSLPU               NICE  \\\n",
       "0            1927968                1927968            1927968   \n",
       "1  3.508334163222626  3.6100184235422994E-4  4.634469555511295   \n",
       "2  6.988459728531793    0.04421874419214597   8.40318986475207   \n",
       "3                  0                      0                  0   \n",
       "4                 70                     21                 20   \n",
       "\n",
       "                  PRI     RTPR               CPUNR                   EXC  \\\n",
       "0             1927968  1927968             1927968               1927968   \n",
       "1  111.26826741937626      0.0  1.9210142491991569  0.030275398761805176   \n",
       "2  22.624445062102893      0.0  1.5274047225903056    1.4619498567691878   \n",
       "3                   0        0                   0                     0   \n",
       "4                 139        0                   5                   127   \n",
       "\n",
       "                   CPU               attack  \n",
       "0              1927968              1927968  \n",
       "1  0.02238527299209388   0.1511249149363475  \n",
       "2  0.13628943687184275  0.35817068774739264  \n",
       "3                  0.0                    0  \n",
       "4                 4.02                    1  "
      ]
     },
     "execution_count": 15,
     "metadata": {},
     "output_type": "execute_result"
    }
   ],
   "source": [
    "#Filtering only the numerical data type columns from the process data frame.\n",
    "only_numbers_process = process_df.select([item[0] for item in process_df.dtypes if not item[1].startswith('string')])\n",
    "\n",
    "#Printing the summary statistics\n",
    "print(\"Below are the summary statistics for the Process data frame : \")\n",
    "\n",
    "#only_numbers_process.describe().show()\n",
    "only_numbers_process.describe().toPandas().head()"
   ]
  },
  {
   "cell_type": "markdown",
   "metadata": {},
   "source": [
    "#### for each non-numeric feature in each activity, display the top-10 values and the corresponding counts."
   ]
  },
  {
   "cell_type": "code",
   "execution_count": 16,
   "metadata": {},
   "outputs": [
    {
     "name": "stdout",
     "output_type": "stream",
     "text": [
      "root\n",
      " |-- CMD: string (nullable = true)\n",
      " |-- type: string (nullable = true)\n",
      "\n",
      "root\n",
      " |-- POLI: string (nullable = true)\n",
      " |-- Status: string (nullable = true)\n",
      " |-- State: string (nullable = true)\n",
      " |-- CMD: string (nullable = true)\n",
      " |-- type: string (nullable = true)\n",
      "\n"
     ]
    }
   ],
   "source": [
    "#Filtering only the categorical data type columns from the memory data frame.\n",
    "only_cate_memory = memory_df.select([item[0] for item in memory_df.dtypes if item[1].startswith('string')])\n",
    "\n",
    "#Printing the schema file to check only if there are data type string\n",
    "only_cate_memory.printSchema()\n",
    "\n",
    "#Filtering only the categorical data type columns from the process data frame.\n",
    "only_cate_process = process_df.select([item[0] for item in process_df.dtypes if item[1].startswith('string')])\n",
    "\n",
    "#Printing the schema file to check only if there are data type string\n",
    "only_cate_process.printSchema()"
   ]
  },
  {
   "cell_type": "code",
   "execution_count": 17,
   "metadata": {},
   "outputs": [
    {
     "name": "stdout",
     "output_type": "stream",
     "text": [
      "Total number of Processes are : 659\n",
      "\n",
      "Top 10 name of the process and its corresponding counts are as below : \n",
      "+----------+------+\n",
      "|       CMD| count|\n",
      "+----------+------+\n",
      "|      atop|325985|\n",
      "|   apache2| 89761|\n",
      "| jfsCommit| 81714|\n",
      "|  vmtoolsd| 77871|\n",
      "|      Xorg| 49981|\n",
      "|  nautilus| 48356|\n",
      "|irqbalance| 44387|\n",
      "|    compiz| 44356|\n",
      "|  ostinato| 43024|\n",
      "|     drone| 41392|\n",
      "+----------+------+\n",
      "only showing top 10 rows\n",
      "\n"
     ]
    }
   ],
   "source": [
    "# sorting the rows in descending order based on the column CMD from memory data frame\n",
    "temp_df = only_cate_memory.groupBy(\"CMD\").count()\n",
    "top_10_CMD_memory = temp_df.sort(col(\"count\"),ascending=False)\n",
    "\n",
    "#Display the total count  of unique process \n",
    "print(\"Total number of Processes are :\",top_10_CMD_memory.count())\n",
    "\n",
    "#Top 10 name of the process and its corresponding counts are\n",
    "print(\"\\nTop 10 name of the process and its corresponding counts are as below : \")\n",
    "top_10_CMD_memory.show(10)"
   ]
  },
  {
   "cell_type": "code",
   "execution_count": 18,
   "metadata": {},
   "outputs": [
    {
     "name": "stdout",
     "output_type": "stream",
     "text": [
      "Total number of Processes are : 683\n",
      "\n",
      "Top 10 name of the process and its corresponding counts are as below : \n",
      "+--------------+------+\n",
      "|           CMD| count|\n",
      "+--------------+------+\n",
      "|          atop|441180|\n",
      "|       apache2|313143|\n",
      "|      vmtoolsd|112029|\n",
      "|          Xorg| 66813|\n",
      "|      nautilus| 63449|\n",
      "|gnome-terminal| 47628|\n",
      "|        compiz| 44386|\n",
      "|    irqbalance| 44324|\n",
      "|      ostinato| 42979|\n",
      "|         drone| 41390|\n",
      "+--------------+------+\n",
      "only showing top 10 rows\n",
      "\n"
     ]
    }
   ],
   "source": [
    "# sorting the rows in descending order based on the column CMD from Process data frame\n",
    "temp_df = only_cate_process.groupBy(\"CMD\").count()\n",
    "top_10_CMD_process = temp_df.sort(col(\"count\"),ascending=False)\n",
    "\n",
    "#Display the total count  of unique process \n",
    "print(\"Total number of Processes are :\",top_10_CMD_process.count())\n",
    "\n",
    "#Top 10 name of the process and its corresponding counts are\n",
    "print(\"\\nTop 10 name of the process and its corresponding counts are as below : \")\n",
    "top_10_CMD_process.show(10)"
   ]
  },
  {
   "cell_type": "code",
   "execution_count": 19,
   "metadata": {},
   "outputs": [
    {
     "name": "stdout",
     "output_type": "stream",
     "text": [
      "Total number of scheduling policies are : 3\n",
      "\n",
      "Top 10 scheduling policies and its corresponding counts are as below : \n",
      "+----+-------+\n",
      "|POLI|  count|\n",
      "+----+-------+\n",
      "|norm|1861558|\n",
      "|   0|  53216|\n",
      "|   -|  13194|\n",
      "+----+-------+\n",
      "\n"
     ]
    }
   ],
   "source": [
    "# sorting the rows in descending order based on the column POLI from Process data frame\n",
    "temp_df = only_cate_process.groupBy(\"POLI\").count()\n",
    "top_10_POLI_process = temp_df.sort(col(\"count\"),ascending=False)\n",
    "\n",
    "#Display the total count  of unique scheduling policies\n",
    "print(\"Total number of scheduling policies are :\",top_10_POLI_process.count())\n",
    "\n",
    "#Top 10 name of the process and its corresponding counts are\n",
    "print(\"\\nTop 10 scheduling policies and its corresponding counts are as below : \")\n",
    "top_10_POLI_process.show(10)"
   ]
  },
  {
   "cell_type": "code",
   "execution_count": 20,
   "metadata": {},
   "outputs": [
    {
     "name": "stdout",
     "output_type": "stream",
     "text": [
      "Total number of process status are : 7\n",
      "\n",
      "Top 10 Process status and its corresponding counts are as below : \n",
      "+------+-------+\n",
      "|Status|  count|\n",
      "+------+-------+\n",
      "|     -|1416322|\n",
      "|     0| 438984|\n",
      "|    NE|  48602|\n",
      "|     N|  23313|\n",
      "|    NS|    743|\n",
      "|     C|      3|\n",
      "|    NC|      1|\n",
      "+------+-------+\n",
      "\n"
     ]
    }
   ],
   "source": [
    "# sorting the rows in descending order based on the column Status from Process data frame\n",
    "temp_df = only_cate_process.groupBy(\"Status\").count()\n",
    "top_10_Status_process = temp_df.sort(col(\"count\"),ascending=False)\n",
    "\n",
    "#Display the total count  of unique status of a process\n",
    "print(\"Total number of process status are :\",top_10_Status_process.count())\n",
    "\n",
    "#Top 10 status of the process and its corresponding counts are\n",
    "print(\"\\nTop 10 Process status and its corresponding counts are as below : \")\n",
    "top_10_Status_process.show(10)"
   ]
  },
  {
   "cell_type": "code",
   "execution_count": 21,
   "metadata": {},
   "outputs": [
    {
     "name": "stdout",
     "output_type": "stream",
     "text": [
      "Total number of process state are : 7\n",
      "\n",
      "Top 10 Process state and its corresponding counts are as below : \n",
      "+-----+-------+\n",
      "|State|  count|\n",
      "+-----+-------+\n",
      "|    S|1676350|\n",
      "|    I|  98986|\n",
      "|    R|  84753|\n",
      "|    E|  66410|\n",
      "|    Z|   1118|\n",
      "|    D|    344|\n",
      "|    T|      7|\n",
      "+-----+-------+\n",
      "\n"
     ]
    }
   ],
   "source": [
    "# sorting the rows in descending order based on the column State from Process data frame\n",
    "temp_df = only_cate_process.groupBy(\"State\").count()\n",
    "top_10_State_process = temp_df.sort(col(\"count\"),ascending=False)\n",
    "\n",
    "#Display the total count  of unique state of a process\n",
    "print(\"Total number of process state are :\",top_10_State_process.count())\n",
    "\n",
    "#Top 10 state of the process and its corresponding counts are\n",
    "print(\"\\nTop 10 Process state and its corresponding counts are as below : \")\n",
    "top_10_State_process.show(10)"
   ]
  },
  {
   "cell_type": "markdown",
   "metadata": {},
   "source": [
    "### 1.3.3 Plots\n",
    "\n",
    "#### Memory Data Frame"
   ]
  },
  {
   "cell_type": "code",
   "execution_count": 22,
   "metadata": {},
   "outputs": [
    {
     "data": {
      "text/plain": [
       "Text(0.5, 1.0, 'Correlation Matrix')"
      ]
     },
     "execution_count": 22,
     "metadata": {},
     "output_type": "execute_result"
    },
    {
     "data": {
      "image/png": "[encoded data removed]",
      "text/plain": [
       "<Figure size 936x576 with 2 Axes>"
      ]
     },
     "metadata": {
      "needs_background": "light"
     },
     "output_type": "display_data"
    }
   ],
   "source": [
    "#Importing the required libraries to draw the correlation plot\n",
    "from pyspark.ml.feature import VectorAssembler\n",
    "from pyspark.ml.stat import Correlation\n",
    "from pyspark.mllib.stat import Statistics\n",
    "import matplotlib.pyplot as plt\n",
    "\n",
    "#Declaring the output feature\n",
    "vector_col = \"corr_features\"\n",
    "\n",
    "#Using the vectorAssembler in the data frame\n",
    "assembler = VectorAssembler(inputCols=[item[0] for item in memory_df.dtypes if not item[1].startswith('string')], \n",
    "                            outputCol=vector_col)\n",
    "\n",
    "#Transforming the provided data set\n",
    "myGraph_vector = assembler.transform(memory_df).select(vector_col)\n",
    "\n",
    "#Drawing correlation matrix\n",
    "matrix = Correlation.corr(myGraph_vector, vector_col).collect()[0][0]\n",
    "\n",
    "#Converting it to the required format\n",
    "corrmatrix = matrix.toArray().tolist()\n",
    "\n",
    "#Creating a Data frame to plot the correlation value in heat map\n",
    "df = spark.createDataFrame(corrmatrix,[item[0] for item in memory_df.dtypes if not item[1].startswith('string')]).toPandas()\n",
    "\n",
    "#Figure size\n",
    "f = plt.figure(figsize=(13, 8))\n",
    "\n",
    "#generating heat map\n",
    "plt.matshow(df, fignum=f.number)\n",
    "\n",
    "#X axis lables\n",
    "plt.xticks(range(df.shape[1]), df.columns, fontsize=12, rotation=40)\n",
    "\n",
    "#Y axis lables\n",
    "plt.yticks(range(df.shape[1]), df.columns, fontsize=12)\n",
    "\n",
    "#declaring the colour bar\n",
    "cb = plt.colorbar()\n",
    "\n",
    "#Lable size\n",
    "cb.ax.tick_params(labelsize=12)\n",
    "\n",
    "#title for the image\n",
    "plt.title('Correlation Matrix', fontsize=18)"
   ]
  },
  {
   "cell_type": "markdown",
   "metadata": {},
   "source": [
    "+ From the above correlation matrix, it can be seen that\n",
    "\n",
    "    + **TS and PID are negatively correlated**.\n",
    "    \n",
    "    + **VSTEXT and MAJFLT are positively correlated.**\n",
    "    \n",
    "    + **RSIZE and VGROW are positively correlated.**\n",
    "    \n",
    "    + **PID, MINFLT , RGROW, VSIZE, RSIZE and VSTEXT are have high correlation coeffecient** to the target variable(attack column) when compared to the rest of the columns. "
   ]
  },
  {
   "cell_type": "code",
   "execution_count": 23,
   "metadata": {},
   "outputs": [
    {
     "data": {
      "image/png": "[encoded data removed]",
      "text/plain": [
       "<Figure size 432x288 with 1 Axes>"
      ]
     },
     "metadata": {
      "needs_background": "light"
     },
     "output_type": "display_data"
    }
   ],
   "source": [
    "# Select example rows to display.\n",
    "predicted_data = memory_df.select('type', 'attack')\n",
    "\n",
    "#Converting 0 to No and 1 to YEs to plot a stacked bar graph\n",
    "predicted_data = predicted_data.withColumn('attack', when(col('attack') == 0, \"No\").otherwise(\"Yes\"))\n",
    "\n",
    "#Cross tab to get the count\n",
    "df = predicted_data.crosstab('type', 'attack').toPandas()\n",
    "\n",
    "#setting the column \"type attack\" as index\n",
    "df = df.set_index(\"type_attack\")\n",
    "\n",
    "#Generating the Graphs\n",
    "axis = df[[\"Yes\",\"No\"]].plot(kind=\"bar\", stacked=True)\n",
    "\n",
    "#Display the results\n",
    "fig = axis.get_figure()"
   ]
  },
  {
   "cell_type": "markdown",
   "metadata": {},
   "source": [
    "+ From the above bar chart, it can be seen that the **type attack Normal** is way too more when compared to the other classes in the column. This clearly suggests that this column should not be considered when analysing the problem since there is class imbalance there might be over-fitting of the model.\n",
    "\n",
    "+ Rest of the classes in the column are almost equally distributed but for mitm which can be clearly seen from the image above. "
   ]
  },
  {
   "cell_type": "code",
   "execution_count": 24,
   "metadata": {},
   "outputs": [
    {
     "data": {
      "text/plain": [
       "Text(0.5, 1.0, 'Correlation Matrix')"
      ]
     },
     "execution_count": 24,
     "metadata": {},
     "output_type": "execute_result"
    },
    {
     "data": {
      "image/png": "[encoded data removed]",
      "text/plain": [
       "<Figure size 936x576 with 2 Axes>"
      ]
     },
     "metadata": {
      "needs_background": "light"
     },
     "output_type": "display_data"
    }
   ],
   "source": [
    "#Declaring the output feature\n",
    "vector_col = \"corr_features\"\n",
    "\n",
    "#Using the vectorAssembler in the data frame\n",
    "assembler = VectorAssembler(inputCols=[item[0] for item in process_df.dtypes if not item[1].startswith('string')], \n",
    "                            outputCol=vector_col)\n",
    "\n",
    "#Transforming the provided data set\n",
    "myGraph_vector = assembler.transform(process_df).select(vector_col)\n",
    "\n",
    "#Drawing correlation matrix\n",
    "matrix = Correlation.corr(myGraph_vector, vector_col).collect()[0][0]\n",
    "\n",
    "#Converting it to the required format\n",
    "corrmatrix = matrix.toArray().tolist()\n",
    "\n",
    "#Creating a Data frame to plot the correlation value in heat map\n",
    "df = spark.createDataFrame(corrmatrix,[item[0] for item in process_df.dtypes if not item[1].startswith('string')]).toPandas()\n",
    "\n",
    "#Figure size\n",
    "f = plt.figure(figsize=(13, 8))\n",
    "\n",
    "#generating heat map\n",
    "plt.matshow(df, fignum=f.number)\n",
    "\n",
    "#X axis lables\n",
    "plt.xticks(range(df.shape[1]), df.columns, fontsize=12, rotation=40)\n",
    "\n",
    "#Y axis lables\n",
    "plt.yticks(range(df.shape[1]), df.columns, fontsize=12)\n",
    "\n",
    "#declaring the colour bar\n",
    "cb = plt.colorbar()\n",
    "\n",
    "#Lable size\n",
    "cb.ax.tick_params(labelsize=12)\n",
    "\n",
    "#title for the image\n",
    "plt.title('Correlation Matrix', fontsize=18)"
   ]
  },
  {
   "cell_type": "markdown",
   "metadata": {},
   "source": [
    "+ From the above correlation matrix, it can be seen that\n",
    "\n",
    "    + **TSLPI and PID are negatively correlated**.\n",
    "    \n",
    "    + **TRUN and CPU are positively correlated.** \n",
    "    \n",
    "    + **NICE and TSLPI are negatively correlated**\n",
    "    \n",
    "    + **NICE AND PRI are negatively correlated**\n",
    "    \n",
    "    + **CPUNR and PRI are positively correlated**\n",
    "    \n",
    "    + **PID,TSLPI,PRI and CPU are have high correlation coeffecient** to the target variable(attack column) when compared to the rest of the columns. "
   ]
  },
  {
   "cell_type": "code",
   "execution_count": 25,
   "metadata": {},
   "outputs": [
    {
     "data": {
      "image/png": "[encoded data removed]",
      "text/plain": [
       "<Figure size 432x288 with 1 Axes>"
      ]
     },
     "metadata": {
      "needs_background": "light"
     },
     "output_type": "display_data"
    }
   ],
   "source": [
    "# Select example rows to display.\n",
    "predicted_data = process_df.select('type', 'attack')\n",
    "\n",
    "#Converting 0 to No and 1 to YEs to plot a stacked bar graph\n",
    "predicted_data = predicted_data.withColumn('attack', when(col('attack') == 0, \"No\").otherwise(\"Yes\"))\n",
    "\n",
    "#Cross tab to get the count\n",
    "df = predicted_data.crosstab('type', 'attack').toPandas()\n",
    "\n",
    "#setting the column \"type attack\" as index\n",
    "df = df.set_index(\"type_attack\")\n",
    "\n",
    "#Generating the Graphs\n",
    "axis = df[[\"Yes\",\"No\"]].plot(kind=\"bar\", stacked=True)\n",
    "\n",
    "#Display the results\n",
    "fig = axis.get_figure()"
   ]
  },
  {
   "cell_type": "markdown",
   "metadata": {},
   "source": [
    "+ From the above bar chart, it can be seen that the **type attack Normal** is way too more when compared to the other classes in the column. This clearly suggests that this column should not be considered when analysing the problem since there is class imbalance there might be over-fitting of the model.\n",
    "\n",
    "+ Rest of the classes in the column are almost equally distributed but for mitm which can be clearly seen from the image above. "
   ]
  },
  {
   "cell_type": "markdown",
   "metadata": {},
   "source": [
    "## 2. Feature extraction and ML training (55%)\n",
    "\n",
    "#### 2.1 Preparing the training data and testing data (4%)\n",
    "\n",
    "\n",
    "1. Randomly split the dataset into 80% training data and 20% testing data for each use case\n"
   ]
  },
  {
   "cell_type": "code",
   "execution_count": 26,
   "metadata": {},
   "outputs": [],
   "source": [
    "#Splitting the data into testing and training set 80% into training and 20% for testing for process data frame\n",
    "train_process, test_process = process_df.randomSplit([0.8, 0.2],123)\n",
    "\n",
    "#Splitting the data into testing and training set 80% into training and 20% for testing for memory data frame\n",
    "train_memory, test_memory = memory_df.randomSplit([0.8, 0.2],123)"
   ]
  },
  {
   "cell_type": "code",
   "execution_count": 27,
   "metadata": {},
   "outputs": [
    {
     "name": "stdout",
     "output_type": "stream",
     "text": [
      "Based on the column 'Attack', below are the number of attacks(1) and non-attacks(0) in the Process Training data frame: \n",
      "+------+-------+\n",
      "|attack|  count|\n",
      "+------+-------+\n",
      "|     1| 233285|\n",
      "|     0|1308680|\n",
      "+------+-------+\n",
      "\n",
      "Based on the column 'Attack', below are the number of attacks(1) and non-attacks(0) in the Memory Training data frame: \n",
      "+------+-------+\n",
      "|attack|  count|\n",
      "+------+-------+\n",
      "|     1| 164530|\n",
      "|     0|1434891|\n",
      "+------+-------+\n",
      "\n"
     ]
    }
   ],
   "source": [
    "#Getting the count of attacks and non-attacks in the process training set\n",
    "process_attack_count = train_process.groupBy(\"attack\").count()\n",
    "\n",
    "#Getting the count of attacks and non-attacks in the memory training set\n",
    "memory_attack_count = train_memory.groupBy(\"attack\").count()\n",
    "\n",
    "#displaying the count\n",
    "print(\"Based on the column 'Attack', below are the number of attacks(1) and non-attacks(0) in the Process Training data frame: \")\n",
    "process_attack_count.show()\n",
    "\n",
    "#displaying the count\n",
    "print(\"Based on the column 'Attack', below are the number of attacks(1) and non-attacks(0) in the Memory Training data frame: \")\n",
    "memory_attack_count.show()\n"
   ]
  },
  {
   "cell_type": "code",
   "execution_count": 28,
   "metadata": {},
   "outputs": [
    {
     "name": "stdout",
     "output_type": "stream",
     "text": [
      "Process training data has been rescaled and cached\n",
      "After re-sampling, the number of records in the process training data set is :  141043\n"
     ]
    }
   ],
   "source": [
    "#Since there is a class imbalance in the data set based on the target variable,\n",
    "#in order to avoid the bias rebalancing the data set\n",
    "\n",
    "#process training data rebalancing through under-sampling\n",
    "\n",
    "#getting the records of 1's in the process training data\n",
    "attack_process_df = train_process.filter(col(\"attack\") == 1)\n",
    "\n",
    "#getting the records of 0's in the process training data\n",
    "non_attack_process_df = train_process.filter(col(\"attack\") == 0)\n",
    "#non_attack_count = process_attack_count.filter(col(\"attack\") == 1).collect()[0][1]\n",
    "\n",
    "#Calculating the 20% value of the attack class\n",
    "attack_percentage = (attack_process_df.count()*0.2)/attack_process_df.count()\n",
    "\n",
    "#Calculating the 40% value of the attack class\n",
    "non_attack_percentage = (attack_process_df.count()*0.4)/non_attack_process_df.count()\n",
    "\n",
    "#Sampling for attack class in the data frame created above\n",
    "sampled_attack_df = attack_process_df.sample(False,attack_percentage)\n",
    "\n",
    "#Sampling for non-attack class in the data frame created above\n",
    "sampled_non_attack_df = non_attack_process_df.sample(False,non_attack_percentage)\n",
    "\n",
    "#Merging both the data frame\n",
    "rescaled_train_df_process = sampled_attack_df.unionAll(sampled_non_attack_df)\n",
    "\n",
    "#caching the rebalanced train process data\n",
    "rescaled_train_df_process.cache()\n",
    "print(\"Process training data has been rescaled and cached\")\n",
    "\n",
    "#Displaying the count\n",
    "print(\"After re-sampling, the number of records in the process training data set is : \", rescaled_train_df_process.count())\n",
    "\n"
   ]
  },
  {
   "cell_type": "code",
   "execution_count": 29,
   "metadata": {},
   "outputs": [
    {
     "name": "stdout",
     "output_type": "stream",
     "text": [
      "Memory training data has been rescaled and cached\n",
      "After re-sampling, the number of records in the memory training data set is :  98542\n"
     ]
    }
   ],
   "source": [
    "#Since there is a class imbalance in the data set based on the target variable,\n",
    "#in order to avoid the bias rebalancing the data set\n",
    "\n",
    "#process training data rebalancing through under-sampling\n",
    "\n",
    "#getting the records of 1's in the memory training data\n",
    "attack_memory_df = train_memory.filter(col(\"attack\") == 1)\n",
    "\n",
    "#getting the records of 0's in the memory training data\n",
    "non_attack_memory_df = train_memory.filter(col(\"attack\") == 0)\n",
    "\n",
    "#Calculating the 20% value of the attack class\n",
    "attack_percentage = (attack_memory_df.count()*0.2)/attack_memory_df.count()\n",
    "\n",
    "#Calculating the 40% value of the attack class\n",
    "non_attack_percentage = (attack_memory_df.count()*0.4)/non_attack_memory_df.count()\n",
    "\n",
    "#Sampling for attack class in the data frame created above\n",
    "sampled_attack_df = attack_memory_df.sample(False,attack_percentage)\n",
    "\n",
    "#Sampling for non-attack class in the data frame created above\n",
    "sampled_non_attack_df = non_attack_memory_df.sample(False,non_attack_percentage)\n",
    "\n",
    "#Merging both the data frame\n",
    "rescaled_train_df_memory = sampled_attack_df.union(sampled_non_attack_df)\n",
    "\n",
    "#caching the rebalanced train memory data\n",
    "rescaled_train_df_memory.cache()\n",
    "print(\"Memory training data has been rescaled and cached\")\n",
    "\n",
    "#Displaying the count\n",
    "print(\"After re-sampling, the number of records in the memory training data set is : \",rescaled_train_df_memory.count())"
   ]
  },
  {
   "cell_type": "code",
   "execution_count": 30,
   "metadata": {},
   "outputs": [
    {
     "name": "stdout",
     "output_type": "stream",
     "text": [
      "Based on the column 'Attack', below are the number of attacks(1) and non-attacks(0) in rescaled Process Training data frame: \n",
      "+------+-----+\n",
      "|attack|count|\n",
      "+------+-----+\n",
      "|     1|46896|\n",
      "|     0|94147|\n",
      "+------+-----+\n",
      "\n",
      "Based on the column 'Attack', below are the number of attacks(1) and non-attacks(0) in rescaled Memory Training data frame: \n",
      "+------+-----+\n",
      "|attack|count|\n",
      "+------+-----+\n",
      "|     1|32653|\n",
      "|     0|65889|\n",
      "+------+-----+\n",
      "\n"
     ]
    }
   ],
   "source": [
    "#Getting the count of attacks and non-attacks in the process training set\n",
    "rescale_process_attack_count = rescaled_train_df_process.groupBy(\"attack\").count()\n",
    "\n",
    "#Getting the count of attacks and non-attacks in the memory training set\n",
    "rescale_memory_attack_count = rescaled_train_df_memory.groupBy(\"attack\").count()\n",
    "\n",
    "#displaying the count\n",
    "print(\"Based on the column 'Attack', below are the number of attacks(1) and non-attacks(0) in rescaled Process Training data frame: \")\n",
    "rescale_process_attack_count.show()\n",
    "\n",
    "#displaying the count\n",
    "print(\"Based on the column 'Attack', below are the number of attacks(1) and non-attacks(0) in rescaled Memory Training data frame: \")\n",
    "rescale_memory_attack_count.show()\n"
   ]
  },
  {
   "cell_type": "markdown",
   "metadata": {},
   "source": [
    "### 2.2 Preparing features, labels and models (16%)\n",
    "\n",
    "### Based on data exploration from 1.3.3, which features would you select? Discuss the reason for selecting them and how you plan to further transform them.\n"
   ]
  },
  {
   "cell_type": "markdown",
   "metadata": {},
   "source": [
    "+ **Columns For Memory Data Frame :** \n",
    "\n",
    "    + Below are the findings from the correlation Matrix\n",
    "\n",
    "        + **PID** - Negatively correlated to attack column(target) to a considerable amount\n",
    "\n",
    "        + **MINFLT** - Positively correlated to attack column(target) to a considerable amount\n",
    "\n",
    "        + **RGROW** - Negatively correlated to attack column(target) to a considerable amount\n",
    "\n",
    "        + **VSIZE** - Positively correlated to attack column(target) to a considerable amount\n",
    "\n",
    "        + **VSTEXT** - VSTEXT and MAJFLT are highly correlated to each other and they contribute the same amount to the attack field. So choosing VSTEXT.\n",
    "\n",
    "        + **RSIZE** - RSIZE and VGROW are highly correlated to each other and they contribute the same amount to the attack field. So choosing RSIZE.\n",
    "\n",
    "        + Reason for ommiting **Type column is that, it is unbalanced class**. It might influence to overfit the model.\n",
    "  \n",
    "    + **Transformations on these columns :**\n",
    "    \n",
    "        + Since all the columns are of continuous type, standard scalar is done since there standard deviation is high and to nullify  the units of the column.\n",
    "    \n",
    "    \n",
    "    \n",
    "+ **Columns For Process Data Frame :**\n",
    "\n",
    "    + Below are the findings from the correlation Matrix\n",
    "\n",
    "        + **PID** - Negatively correlated to attack column(target) to a considerable amount\n",
    "\n",
    "        + **PRI** - PRI and NICE are highly negative correlated. So choosing One amoung them, i.e PRI.\n",
    "\n",
    "        + **TSLPI** - Negatively correlated to attack column(target) to a considerable amount\n",
    "        \n",
    "        + **Status** - Since the type string and the class is balanced, choosing the column\n",
    "        \n",
    "        + **State** - Since the type string and the class is balanced, choosing the column\n",
    "        \n",
    "        + **POLI** - Since the type string and the class is balanced, choosing the column\n",
    "\n",
    "        + Reason for ommiting **RPTR is it has No correlation.**\n",
    "\n",
    "        + Reason for ommiting **Type column is that, it is unbalanced class**. It might influence to overfit the model.\n",
    "\n",
    "    + **Transformations on these columns :**\n",
    "    \n",
    "        + Since both categorical and numerical type columns are there, \n",
    "            \n",
    "            + **For Numerical columns** : standard scalar is done since there standard deviation is high and to nullify  the units of the column.\n",
    "            \n",
    "            + **For Categorical columns** : String Index and One hot encoding is done since the cartegorical types are of Nominal and not Ordinal. "
   ]
  },
  {
   "cell_type": "code",
   "execution_count": 31,
   "metadata": {},
   "outputs": [],
   "source": [
    "#based on the above explanation, selecting the features for Memory data frame.\n",
    "reqd_features_memory = rescaled_train_df_memory.select('PID','MINFLT','MAJFLT','RGROW','attack')\n",
    "test_data_mem = test_memory.select('PID','MINFLT','MAJFLT','RGROW','attack')"
   ]
  },
  {
   "cell_type": "markdown",
   "metadata": {},
   "source": [
    "### Create Transformers / Estimators for transforming / assembling the features you selected above in 2.2.1 and Prepare Estimators for Decision Tree and Gradient Boosted Tree model for each use case and include them into ML Pipelines for use case 1, 2\n",
    "\n"
   ]
  },
  {
   "cell_type": "code",
   "execution_count": 32,
   "metadata": {},
   "outputs": [],
   "source": [
    "#importing the required packages for performing String Indexing, One Hot Encoding, Vector Assembler, Normalising, Pipe Line \n",
    "#Decision tree and Gradient Boosting Tree model.\n",
    "\n",
    "from pyspark.ml.feature import StringIndexer\n",
    "from pyspark.ml.feature import OneHotEncoder\n",
    "from pyspark.ml.feature import VectorAssembler\n",
    "from pyspark.ml.feature import Normalizer\n",
    "from pyspark.ml import Pipeline\n",
    "from pyspark.ml.feature import MinMaxScaler\n",
    "from pyspark.ml.classification import DecisionTreeClassifier\n",
    "from pyspark.ml.feature import StandardScaler\n",
    "from pyspark.ml.classification import GBTClassifier"
   ]
  },
  {
   "cell_type": "code",
   "execution_count": 33,
   "metadata": {},
   "outputs": [],
   "source": [
    "#Tried with all columns initially. Got to know that the \"Type\" column is influencing the attack column to \n",
    "#a greater extent. So inorder to avoid overfitting of the model, removed the type column from the regression analysis.\n",
    "\n",
    "# memory_index_input = ['type']\n",
    "# memory_index_output = [f'{item}_index' for item in memory_index_input]\n",
    "\n",
    "# #encode_input = index_output\n",
    "# memory_encode_output = [f'{item}_vec' for item in memory_index_input]\n",
    "\n",
    "\n",
    "# vec_inputs.extend(memory_encode_output)\n",
    "\n",
    "# #vec_inputs = ['PID','MINFLT','MAJFLT','RGROW','VSTEXT','VSIZE','RSIZE','VGROW','MEM']\n",
    "\n",
    "# #Define the Standard Scaler here\n",
    "# #Step 2 : Feature Engineering\n",
    "#memory_indexer = StringIndexer(inputCols=memory_index_input,outputCols=memory_index_output,handleInvalid='keep')\n",
    "#memory_encoder = OneHotEncoder(inputCols=memory_index_output,outputCols=memory_encode_output)\n",
    "\n",
    "#Input columns for Vector assembler\n",
    "vec_inputs = ['PID','MINFLT','RGROW','VSTEXT','VSIZE','RSIZE']#,'VGROW','MEM']#,'Status_vec','State_vec']\n",
    "\n",
    "#For pipeline\n",
    "#Vector Assembler\n",
    "memory_assembler = VectorAssembler(inputCols=vec_inputs,outputCol='features')\n",
    "\n",
    "#Standard Scaler\n",
    "memory_scaler = StandardScaler(inputCol='features', outputCol='scaledFeatures')\n",
    "\n",
    "#Decision tree model\n",
    "memory_dt = DecisionTreeClassifier(labelCol='attack', featuresCol = 'scaledFeatures',maxDepth = 5)\n",
    "\n",
    "#Normalizer \n",
    "memory_norm = Normalizer(inputCol = 'scaledFeatures',outputCol = 'norm_features',p=1.0)\n",
    "\n",
    "#Gradient Boosting Tree model\n",
    "memory_gbt = GBTClassifier(featuresCol = 'norm_features', labelCol = 'attack', maxIter = 8)\n",
    "\n",
    "#pipeline = Pipeline().setStages(scaler + [encoder,assembler,dt])\n",
    "#pipeline_dt_memory =  Pipeline(stages=[memory_indexer,memory_encoder,memory_assembler,memory_scaler,memory_dt])\n",
    "#pipeline_gbt_memory = Pipeline(stages=[memory_indexer,memory_encoder,memory_assembler,memory_scaler,memory_norm,memory_gbt])\n",
    "\n",
    "#Creating a pipeline. \n",
    "#Decision Tree Pipeline\n",
    "pipeline_dt_memory =  Pipeline(stages=[memory_assembler,memory_scaler,memory_dt])\n",
    "\n",
    "#Gradient Boosting Tree Pipeline\n",
    "pipeline_gbt_memory = Pipeline(stages=[memory_assembler,memory_scaler,memory_norm,memory_gbt])"
   ]
  },
  {
   "cell_type": "code",
   "execution_count": 34,
   "metadata": {},
   "outputs": [],
   "source": [
    "#Input and ouput columns for String indexer\n",
    "index_input = ['POLI','Status','State']\n",
    "index_output = [f'{item}_index' for item in index_input]\n",
    "\n",
    "#Input and ouput columns for Onehot encoding\n",
    "#encode_input = index_output\n",
    "encode_output = [f'{item}_vec' for item in index_input]\n",
    "\n",
    "#Input column for Vector Assembler\n",
    "vec_input = ['PID','TSLPI','PRI','CPU']#,'Status_vec','State_vec']\n",
    "vec_input.extend(encode_output)\n",
    "\n",
    "#For pipeline\n",
    "#String indexing\n",
    "process_indexer = StringIndexer(inputCols=index_input,outputCols=index_output,handleInvalid='keep')\n",
    "\n",
    "#One Hot encoding\n",
    "process_encoder = OneHotEncoder(inputCols=index_output,outputCols=encode_output)\n",
    "\n",
    "#Vector Assembler\n",
    "process_assembler = VectorAssembler(inputCols=vec_input,outputCol='features',handleInvalid='keep')\n",
    "\n",
    "#Standar scaler\n",
    "process_scaler = StandardScaler(inputCol='features', outputCol='scaledFeatures')\n",
    "\n",
    "#Decision Tree Model\n",
    "process_dt = DecisionTreeClassifier(labelCol='attack', featuresCol = 'scaledFeatures',maxDepth = 4)\n",
    "\n",
    "#Normalizer\n",
    "process_norm = Normalizer(inputCol = 'scaledFeatures',outputCol = 'norm_features',p=1.0)\n",
    "\n",
    "#Gradient Boosting Tree Model\n",
    "process_gbt = GBTClassifier(featuresCol = 'norm_features', labelCol = 'attack', maxIter = 8)\n",
    "\n",
    "#Creating a pipeline.\n",
    "#Pipeline for decision tree\n",
    "pipeline_dt_process =  Pipeline(stages=[process_indexer,process_encoder,process_assembler,process_scaler,process_dt])\n",
    "\n",
    "#Pipeline for Gradient Boosting tree\n",
    "pipeline_gbt_process = Pipeline(stages=[process_indexer,process_encoder,process_assembler,process_scaler,process_norm,process_gbt])"
   ]
  },
  {
   "cell_type": "markdown",
   "metadata": {},
   "source": [
    "### For each use case, use the corresponding ML Pipeline from previous step to train the models on the rebalanced training data from 2.1.2\n",
    "\n",
    "#### Memory Data Frame\n",
    "\n",
    "##### Decision Tree Pipeline\n"
   ]
  },
  {
   "cell_type": "code",
   "execution_count": 35,
   "metadata": {},
   "outputs": [
    {
     "name": "stdout",
     "output_type": "stream",
     "text": [
      "+--------------------+------+----------+\n",
      "|      scaledFeatures|attack|prediction|\n",
      "+--------------------+------+----------+\n",
      "|[0.30954225498795...|     0|       0.0|\n",
      "|[0.71825824215652...|     0|       0.0|\n",
      "|[0.54674349754114...|     0|       0.0|\n",
      "|[0.54159161534994...|     0|       0.0|\n",
      "|[0.60298487812841...|     0|       0.0|\n",
      "+--------------------+------+----------+\n",
      "only showing top 5 rows\n",
      "\n"
     ]
    }
   ],
   "source": [
    "# Train model.  This also runs the indexers.\n",
    "model_memory_dt = pipeline_dt_memory.fit(rescaled_train_df_memory)\n",
    "\n",
    "# Make predictions.\n",
    "predictions_memory_dt =  model_memory_dt.transform(test_memory)\n",
    "\n",
    "# Select example rows to display.\n",
    "predictions_memory_dt.select(\"scaledFeatures\", \"attack\", \"prediction\").show(5)"
   ]
  },
  {
   "cell_type": "markdown",
   "metadata": {},
   "source": [
    "##### Gradient Boosting Tree Pipeline"
   ]
  },
  {
   "cell_type": "code",
   "execution_count": 36,
   "metadata": {},
   "outputs": [
    {
     "name": "stdout",
     "output_type": "stream",
     "text": [
      "+--------------------+------+----------+\n",
      "|       norm_features|attack|prediction|\n",
      "+--------------------+------+----------+\n",
      "|[0.12347727435408...|     0|       1.0|\n",
      "|[0.01838101878959...|     0|       0.0|\n",
      "|[0.03601133062369...|     0|       0.0|\n",
      "|[0.03589932008011...|     0|       0.0|\n",
      "|[0.04877532501291...|     0|       0.0|\n",
      "+--------------------+------+----------+\n",
      "only showing top 5 rows\n",
      "\n"
     ]
    }
   ],
   "source": [
    "# Train model.  This also runs the indexers.\n",
    "model_memory_gbt = pipeline_gbt_memory.fit(rescaled_train_df_memory)\n",
    "\n",
    "# Make predictions.\n",
    "predictions_memory_gbt =  model_memory_gbt.transform(test_memory)\n",
    "\n",
    "# Select example rows to display.\n",
    "predictions_memory_gbt.select(\"norm_features\", \"attack\", \"prediction\").show(5)"
   ]
  },
  {
   "cell_type": "markdown",
   "metadata": {},
   "source": [
    "#### Process Data Frame\n",
    "\n",
    "##### Decision Tree Pipeline"
   ]
  },
  {
   "cell_type": "code",
   "execution_count": 37,
   "metadata": {},
   "outputs": [
    {
     "name": "stdout",
     "output_type": "stream",
     "text": [
      "+--------------------+------+----------+\n",
      "|      scaledFeatures|attack|prediction|\n",
      "+--------------------+------+----------+\n",
      "|(19,[0,1,2,3,4,10...|     0|       1.0|\n",
      "|(19,[0,1,2,3,4,10...|     0|       1.0|\n",
      "|(19,[0,1,2,4,10,1...|     0|       1.0|\n",
      "|(19,[0,1,2,4,10,1...|     0|       1.0|\n",
      "|(19,[0,1,2,4,10,1...|     0|       1.0|\n",
      "+--------------------+------+----------+\n",
      "only showing top 5 rows\n",
      "\n"
     ]
    }
   ],
   "source": [
    "# Train model.  This also runs the indexers.\n",
    "model_process_dt = pipeline_dt_process.fit(rescaled_train_df_process)\n",
    "\n",
    "# Make predictions.\n",
    "predictions_process_dt =  model_process_dt.transform(test_process)\n",
    "\n",
    "# Select example rows to display.\n",
    "predictions_process_dt.select(\"scaledFeatures\", \"attack\", \"prediction\").show(5)"
   ]
  },
  {
   "cell_type": "markdown",
   "metadata": {},
   "source": [
    "##### Gradient Boosting Tree Pipeline"
   ]
  },
  {
   "cell_type": "code",
   "execution_count": 38,
   "metadata": {},
   "outputs": [
    {
     "name": "stdout",
     "output_type": "stream",
     "text": [
      "+--------------------+------+----------+\n",
      "|       norm_features|attack|prediction|\n",
      "+--------------------+------+----------+\n",
      "|(19,[0,1,2,3,4,10...|     0|       1.0|\n",
      "|(19,[0,1,2,3,4,10...|     0|       0.0|\n",
      "|(19,[0,1,2,4,10,1...|     0|       0.0|\n",
      "|(19,[0,1,2,4,10,1...|     0|       0.0|\n",
      "|(19,[0,1,2,4,10,1...|     0|       0.0|\n",
      "+--------------------+------+----------+\n",
      "only showing top 5 rows\n",
      "\n"
     ]
    }
   ],
   "source": [
    "# Train model.  This also runs the indexers.\n",
    "model_process_gbt = pipeline_gbt_process.fit(rescaled_train_df_process)\n",
    "\n",
    "# Make predictions.\n",
    "predictions_process_gbt =  model_process_gbt.transform(test_process)\n",
    "\n",
    "# Select example rows to display.\n",
    "predictions_process_gbt.select(\"norm_features\", \"attack\", \"prediction\").show(5)"
   ]
  },
  {
   "cell_type": "markdown",
   "metadata": {},
   "source": [
    "#### For each use case, test the models on the testing data from 2.1.1 and display the count of each combination of attack label and prediction label in formats as below"
   ]
  },
  {
   "cell_type": "code",
   "execution_count": 39,
   "metadata": {},
   "outputs": [
    {
     "name": "stdout",
     "output_type": "stream",
     "text": [
      "The confusion matrix format for the Process Data Frame for the model Decision Tree is as below : \n",
      "+------+----------+------+\n",
      "|attack|prediction| count|\n",
      "+------+----------+------+\n",
      "|     1|       0.0| 34160|\n",
      "|     0|       0.0|290712|\n",
      "|     1|       1.0| 23919|\n",
      "|     0|       1.0| 37212|\n",
      "+------+----------+------+\n",
      "\n"
     ]
    }
   ],
   "source": [
    "print(\"The confusion matrix format for the Process Data Frame for the model Decision Tree is as below : \")\n",
    "predictions_process_dt.groupBy(\"attack\", \"prediction\").count().show()"
   ]
  },
  {
   "cell_type": "code",
   "execution_count": 40,
   "metadata": {},
   "outputs": [
    {
     "name": "stdout",
     "output_type": "stream",
     "text": [
      "The confusion matrix format for the Process Data Frame for the model Gradient Boosted Tree is as below : \n",
      "+------+----------+------+\n",
      "|attack|prediction| count|\n",
      "+------+----------+------+\n",
      "|     1|       0.0| 31401|\n",
      "|     0|       0.0|289919|\n",
      "|     1|       1.0| 26678|\n",
      "|     0|       1.0| 38005|\n",
      "+------+----------+------+\n",
      "\n"
     ]
    }
   ],
   "source": [
    "print(\"The confusion matrix format for the Process Data Frame for the model Gradient Boosted Tree is as below : \")\n",
    "predictions_process_gbt.groupBy([\"attack\", \"prediction\"]).count().show()"
   ]
  },
  {
   "cell_type": "code",
   "execution_count": 41,
   "metadata": {},
   "outputs": [
    {
     "name": "stdout",
     "output_type": "stream",
     "text": [
      "The confusion matrix format for the Memory Data Frame for the Decision Tree is as below : \n",
      "+------+----------+------+\n",
      "|attack|prediction| count|\n",
      "+------+----------+------+\n",
      "|     1|       0.0| 23116|\n",
      "|     0|       0.0|313314|\n",
      "|     1|       1.0| 17977|\n",
      "|     0|       1.0| 46172|\n",
      "+------+----------+------+\n",
      "\n"
     ]
    }
   ],
   "source": [
    "print(\"The confusion matrix format for the Memory Data Frame for the Decision Tree is as below : \")\n",
    "predictions_memory_dt.groupBy([\"attack\", \"prediction\"]).count().show()"
   ]
  },
  {
   "cell_type": "code",
   "execution_count": 42,
   "metadata": {},
   "outputs": [
    {
     "name": "stdout",
     "output_type": "stream",
     "text": [
      "The confusion matrix format for the Memory Data Frame for the model Gradient Boosted Tree is as below : \n",
      "+------+----------+------+\n",
      "|attack|prediction| count|\n",
      "+------+----------+------+\n",
      "|     1|       0.0| 24864|\n",
      "|     0|       0.0|333147|\n",
      "|     1|       1.0| 16229|\n",
      "|     0|       1.0| 26339|\n",
      "+------+----------+------+\n",
      "\n"
     ]
    }
   ],
   "source": [
    "print(\"The confusion matrix format for the Memory Data Frame for the model Gradient Boosted Tree is as below : \")\n",
    "predictions_memory_gbt.groupBy([\"attack\", \"prediction\"]).count().show()"
   ]
  },
  {
   "cell_type": "markdown",
   "metadata": {},
   "source": [
    "### Compute the AUC, accuracy, recall and precision for the attack label from each model testing result using pyspark MLlib / ML APIs. Discuss which metric is more proper for measuring the model performance on identifying attacks.\n"
   ]
  },
  {
   "cell_type": "code",
   "execution_count": 43,
   "metadata": {},
   "outputs": [],
   "source": [
    "'''\n",
    "compute_metrics is a user defined function that takes in  the prediction data frame.\n",
    "COmputes various metrics like Accuracy, Recall, Precision, F1 score, AUC and FPR and returns the same as list.\n",
    "'''\n",
    "\n",
    "\n",
    "# Use BinaryClassificationEvaluator to evaluate a model\n",
    "from pyspark.ml.evaluation import BinaryClassificationEvaluator\n",
    "evaluator = BinaryClassificationEvaluator(rawPredictionCol=\"rawPrediction\")\n",
    "#.withColumnRenamed(\"attack\", \"label\")\n",
    "def compute_metrics(predictions):\n",
    "    # Evaluate model\n",
    "    evaluator = BinaryClassificationEvaluator(rawPredictionCol=\"rawPrediction\")\n",
    "    \n",
    "    #Renaming the column so that evaluator evaluates the Model for AUC.\n",
    "    predictions = predictions.withColumnRenamed(\"attack\", \"label\")\n",
    "    \n",
    "    #Getting the True Negative count\n",
    "    TN = predictions.filter('prediction = 0.0 AND label = 0').count()\n",
    "    \n",
    "    #Getting the True Positive count\n",
    "    TP = predictions.filter('prediction = 1.0 AND label = 1').count()\n",
    "    \n",
    "    #Getting the False Negative count\n",
    "    FN = predictions.filter('prediction = 0.0 AND label = 1').count()\n",
    "    \n",
    "    #Getting the False Positive count\n",
    "    FP = predictions.filter('prediction = 1.0 AND label = 0').count()\n",
    "    \n",
    "    #Getting the AUC value\n",
    "    auc = evaluator.evaluate(predictions)\n",
    "\n",
    "    # calculate metrics from the confusion matrix\n",
    "    accuracy = (TP+TN)/(TP+TN+FP+FN)\n",
    "    precision = TP/(TP+FP)\n",
    "    recall = TP/(TP+FN)\n",
    "    f1 = ((recall*precision)/(recall+precision))*2\n",
    "    FPR = FP/(TN+FP)\n",
    "    \n",
    "    #Returning the values\n",
    "    return auc,accuracy,recall,precision,FPR"
   ]
  },
  {
   "cell_type": "code",
   "execution_count": 44,
   "metadata": {},
   "outputs": [],
   "source": [
    "#Function call to get the metrics for decision tree model for Memory data frame\n",
    "memory_dt_metrics = compute_metrics(predictions_memory_dt)\n",
    "\n",
    "#Function call to get the metrics for gradiant boosting tree model for Memory data frame\n",
    "memory_gbt_metrics = compute_metrics(predictions_memory_gbt)\n",
    "\n",
    "#Function call to get the metrics for decision tree model for Process data frame\n",
    "process_dt_metrics = compute_metrics(predictions_process_dt)\n",
    "\n",
    "#Function call to get the metrics for gradiant boosting tree model for Process data frame\n",
    "process_gbt_metrics = compute_metrics(predictions_process_gbt)"
   ]
  },
  {
   "cell_type": "code",
   "execution_count": 45,
   "metadata": {},
   "outputs": [
    {
     "name": "stdout",
     "output_type": "stream",
     "text": [
      "For the Memory Data Frame, the metrics are as below : \n",
      "\n",
      "Decision Tree Metrics : \n",
      "\n",
      "AUC :  0.4929945120397899\n",
      "Accuracy :  0.8270303735343091\n",
      "Recall :  0.43747110213418344\n",
      "Precision :  0.28023819545121514\n",
      "\n",
      "Gradient Boosted Tree Metrics : \n",
      "\n",
      "AUC :  0.8150223436654845\n",
      "Accuracy :  0.8721775230354063\n",
      "Recall :  0.39493344365220356\n",
      "Precision :  0.38124882540875776\n",
      "\n",
      "\n",
      "For the Process Data Frame, the metrics are as below : \n",
      "\n",
      "Decision Tree Metrics : \n",
      "\n",
      "AUC :  0.4014684825046777\n",
      "Accuracy :  0.8150998826433992\n",
      "Recall :  0.41183560323008317\n",
      "Precision :  0.39127447612504296\n",
      "\n",
      "Gradient Boosted Tree Metrics : \n",
      "\n",
      "AUC :  0.8052752799754095\n",
      "Accuracy :  0.8201931073074562\n",
      "Recall :  0.45933986466709137\n",
      "Precision :  0.41244221820261895\n"
     ]
    }
   ],
   "source": [
    "print(\"For the Memory Data Frame, the metrics are as below : \")\n",
    "\n",
    "print(\"\\nDecision Tree Metrics : \")\n",
    "print(\"\\nAUC : \",memory_dt_metrics[0])\n",
    "print(\"Accuracy : \",memory_dt_metrics[1])\n",
    "print(\"Recall : \",memory_dt_metrics[2])\n",
    "print(\"Precision : \",memory_dt_metrics[3])\n",
    "\n",
    "print(\"\\nGradient Boosted Tree Metrics : \")\n",
    "print(\"\\nAUC : \",memory_gbt_metrics[0])\n",
    "print(\"Accuracy : \",memory_gbt_metrics[1])\n",
    "print(\"Recall : \",memory_gbt_metrics[2])\n",
    "print(\"Precision : \",memory_gbt_metrics[3])\n",
    "\n",
    "print(\"\\n\\nFor the Process Data Frame, the metrics are as below : \")\n",
    "\n",
    "print(\"\\nDecision Tree Metrics : \")\n",
    "print(\"\\nAUC : \",process_dt_metrics[0])\n",
    "print(\"Accuracy : \",process_dt_metrics[1])\n",
    "print(\"Recall : \",process_dt_metrics[2])\n",
    "print(\"Precision : \",process_dt_metrics[3])\n",
    "\n",
    "print(\"\\nGradient Boosted Tree Metrics : \")\n",
    "print(\"\\nAUC : \",process_gbt_metrics[0])\n",
    "print(\"Accuracy : \",process_gbt_metrics[1])\n",
    "print(\"Recall : \",process_gbt_metrics[2])\n",
    "print(\"Precision : \",process_gbt_metrics[3])"
   ]
  },
  {
   "cell_type": "markdown",
   "metadata": {},
   "source": [
    "+ From the Above results, it can be seen that the accurary(Out of all the classes, how much were predicted correctly) metric for all four pipeline models are high. \n",
    "\n",
    "+ Although the accuracy is high, we should take in AUC-ROC curve into consideration since AUC represents degree or measure of separability. It tells how much model is capable of distinguishing between classes. Higher the AUC, better the model is at predicting 0s as 0s and 1s as 1s.\n",
    "\n",
    "+ **To identify attacks as attacks**, we should consider the metric **\"RECALL\"** because, recall provides information about out of all the positive classes, how much we predicted correctly. "
   ]
  },
  {
   "cell_type": "markdown",
   "metadata": {},
   "source": [
    "### Display the top-5 most important features in each model. Discuss which pipeline model is better, and whether the feature “ts” should be included in the model . And visualise the ROC curve for the better model you selected for each use case"
   ]
  },
  {
   "cell_type": "code",
   "execution_count": 46,
   "metadata": {},
   "outputs": [],
   "source": [
    "'''\n",
    "ExtractFeatureImp is an user defined function that takes in featureImp, dataset and featuresCol as input \n",
    "to compute the the significance of each column be it continous or categorical and return its corresponding significance \n",
    "as output. \n",
    "'''\n",
    "\n",
    "import pandas as pd\n",
    "\n",
    "#User defined function\n",
    "def ExtractFeatureImp(featureImp, dataset, featuresCol):\n",
    "    list_extract = []\n",
    "    for i in dataset.schema[featuresCol].metadata[\"ml_attr\"][\"attrs\"]:\n",
    "        list_extract = list_extract + dataset.schema[featuresCol].metadata[\"ml_attr\"][\"attrs\"][i]\n",
    "    varlist = pd.DataFrame(list_extract)\n",
    "    varlist['score'] = varlist['idx'].apply(lambda x: featureImp[x])\n",
    "    return(varlist.sort_values('score', ascending = False))"
   ]
  },
  {
   "cell_type": "code",
   "execution_count": 47,
   "metadata": {},
   "outputs": [
    {
     "name": "stdout",
     "output_type": "stream",
     "text": [
      "The Top 5 features for the Memory Data Frame for the model Decision Tree are as below : \n",
      "\n"
     ]
    },
    {
     "data": {
      "text/html": [
       "<div>\n",
       "<style scoped>\n",
       "    .dataframe tbody tr th:only-of-type {\n",
       "        vertical-align: middle;\n",
       "    }\n",
       "\n",
       "    .dataframe tbody tr th {\n",
       "        vertical-align: top;\n",
       "    }\n",
       "\n",
       "    .dataframe thead th {\n",
       "        text-align: right;\n",
       "    }\n",
       "</style>\n",
       "<table border=\"1\" class=\"dataframe\">\n",
       "  <thead>\n",
       "    <tr style=\"text-align: right;\">\n",
       "      <th></th>\n",
       "      <th>idx</th>\n",
       "      <th>name</th>\n",
       "      <th>score</th>\n",
       "    </tr>\n",
       "  </thead>\n",
       "  <tbody>\n",
       "    <tr>\n",
       "      <th>0</th>\n",
       "      <td>0</td>\n",
       "      <td>PID</td>\n",
       "      <td>0.269121</td>\n",
       "    </tr>\n",
       "    <tr>\n",
       "      <th>1</th>\n",
       "      <td>1</td>\n",
       "      <td>MINFLT</td>\n",
       "      <td>0.261071</td>\n",
       "    </tr>\n",
       "    <tr>\n",
       "      <th>4</th>\n",
       "      <td>4</td>\n",
       "      <td>VSIZE</td>\n",
       "      <td>0.157110</td>\n",
       "    </tr>\n",
       "    <tr>\n",
       "      <th>3</th>\n",
       "      <td>3</td>\n",
       "      <td>VSTEXT</td>\n",
       "      <td>0.110367</td>\n",
       "    </tr>\n",
       "    <tr>\n",
       "      <th>2</th>\n",
       "      <td>2</td>\n",
       "      <td>RGROW</td>\n",
       "      <td>0.101910</td>\n",
       "    </tr>\n",
       "  </tbody>\n",
       "</table>\n",
       "</div>"
      ],
      "text/plain": [
       "   idx    name     score\n",
       "0    0     PID  0.269121\n",
       "1    1  MINFLT  0.261071\n",
       "4    4   VSIZE  0.157110\n",
       "3    3  VSTEXT  0.110367\n",
       "2    2   RGROW  0.101910"
      ]
     },
     "execution_count": 47,
     "metadata": {},
     "output_type": "execute_result"
    }
   ],
   "source": [
    "print(\"The Top 5 features for the Memory Data Frame for the model Decision Tree are as below : \\n\")\n",
    "ExtractFeatureImp(model_memory_dt.stages[-1].featureImportances,predictions_memory_dt, \"features\").head(5)"
   ]
  },
  {
   "cell_type": "code",
   "execution_count": 48,
   "metadata": {},
   "outputs": [
    {
     "name": "stdout",
     "output_type": "stream",
     "text": [
      "The Top 5 features for for the Memory Data Frame for the model Gradient Boosted Tree are as below : \n",
      "\n"
     ]
    },
    {
     "data": {
      "text/html": [
       "<div>\n",
       "<style scoped>\n",
       "    .dataframe tbody tr th:only-of-type {\n",
       "        vertical-align: middle;\n",
       "    }\n",
       "\n",
       "    .dataframe tbody tr th {\n",
       "        vertical-align: top;\n",
       "    }\n",
       "\n",
       "    .dataframe thead th {\n",
       "        text-align: right;\n",
       "    }\n",
       "</style>\n",
       "<table border=\"1\" class=\"dataframe\">\n",
       "  <thead>\n",
       "    <tr style=\"text-align: right;\">\n",
       "      <th></th>\n",
       "      <th>idx</th>\n",
       "      <th>name</th>\n",
       "      <th>score</th>\n",
       "    </tr>\n",
       "  </thead>\n",
       "  <tbody>\n",
       "    <tr>\n",
       "      <th>0</th>\n",
       "      <td>0</td>\n",
       "      <td>PID</td>\n",
       "      <td>0.277536</td>\n",
       "    </tr>\n",
       "    <tr>\n",
       "      <th>3</th>\n",
       "      <td>3</td>\n",
       "      <td>VSTEXT</td>\n",
       "      <td>0.245269</td>\n",
       "    </tr>\n",
       "    <tr>\n",
       "      <th>5</th>\n",
       "      <td>5</td>\n",
       "      <td>RSIZE</td>\n",
       "      <td>0.194639</td>\n",
       "    </tr>\n",
       "    <tr>\n",
       "      <th>4</th>\n",
       "      <td>4</td>\n",
       "      <td>VSIZE</td>\n",
       "      <td>0.136902</td>\n",
       "    </tr>\n",
       "    <tr>\n",
       "      <th>1</th>\n",
       "      <td>1</td>\n",
       "      <td>MINFLT</td>\n",
       "      <td>0.131419</td>\n",
       "    </tr>\n",
       "  </tbody>\n",
       "</table>\n",
       "</div>"
      ],
      "text/plain": [
       "   idx    name     score\n",
       "0    0     PID  0.277536\n",
       "3    3  VSTEXT  0.245269\n",
       "5    5   RSIZE  0.194639\n",
       "4    4   VSIZE  0.136902\n",
       "1    1  MINFLT  0.131419"
      ]
     },
     "execution_count": 48,
     "metadata": {},
     "output_type": "execute_result"
    }
   ],
   "source": [
    "print(\"The Top 5 features for for the Memory Data Frame for the model Gradient Boosted Tree are as below : \\n\")\n",
    "ExtractFeatureImp(model_memory_gbt.stages[-1].featureImportances,predictions_memory_gbt, \"features\").head(5)"
   ]
  },
  {
   "cell_type": "code",
   "execution_count": 49,
   "metadata": {},
   "outputs": [
    {
     "name": "stdout",
     "output_type": "stream",
     "text": [
      "The Top 5 features for the Process Data Frame for the model Decision Tree are as below : \n"
     ]
    },
    {
     "data": {
      "text/html": [
       "<div>\n",
       "<style scoped>\n",
       "    .dataframe tbody tr th:only-of-type {\n",
       "        vertical-align: middle;\n",
       "    }\n",
       "\n",
       "    .dataframe tbody tr th {\n",
       "        vertical-align: top;\n",
       "    }\n",
       "\n",
       "    .dataframe thead th {\n",
       "        text-align: right;\n",
       "    }\n",
       "</style>\n",
       "<table border=\"1\" class=\"dataframe\">\n",
       "  <thead>\n",
       "    <tr style=\"text-align: right;\">\n",
       "      <th></th>\n",
       "      <th>idx</th>\n",
       "      <th>name</th>\n",
       "      <th>score</th>\n",
       "    </tr>\n",
       "  </thead>\n",
       "  <tbody>\n",
       "    <tr>\n",
       "      <th>7</th>\n",
       "      <td>7</td>\n",
       "      <td>Status_vec_-</td>\n",
       "      <td>0.477646</td>\n",
       "    </tr>\n",
       "    <tr>\n",
       "      <th>0</th>\n",
       "      <td>0</td>\n",
       "      <td>PID</td>\n",
       "      <td>0.443673</td>\n",
       "    </tr>\n",
       "    <tr>\n",
       "      <th>5</th>\n",
       "      <td>5</td>\n",
       "      <td>POLI_vec_0</td>\n",
       "      <td>0.073170</td>\n",
       "    </tr>\n",
       "    <tr>\n",
       "      <th>13</th>\n",
       "      <td>13</td>\n",
       "      <td>State_vec_I</td>\n",
       "      <td>0.005511</td>\n",
       "    </tr>\n",
       "    <tr>\n",
       "      <th>11</th>\n",
       "      <td>11</td>\n",
       "      <td>Status_vec_NS</td>\n",
       "      <td>0.000000</td>\n",
       "    </tr>\n",
       "  </tbody>\n",
       "</table>\n",
       "</div>"
      ],
      "text/plain": [
       "    idx           name     score\n",
       "7     7   Status_vec_-  0.477646\n",
       "0     0            PID  0.443673\n",
       "5     5     POLI_vec_0  0.073170\n",
       "13   13    State_vec_I  0.005511\n",
       "11   11  Status_vec_NS  0.000000"
      ]
     },
     "execution_count": 49,
     "metadata": {},
     "output_type": "execute_result"
    }
   ],
   "source": [
    "print(\"The Top 5 features for the Process Data Frame for the model Decision Tree are as below : \")\n",
    "ExtractFeatureImp(model_process_dt.stages[-1].featureImportances,predictions_process_dt, \"features\").head(5)"
   ]
  },
  {
   "cell_type": "code",
   "execution_count": 50,
   "metadata": {},
   "outputs": [
    {
     "name": "stdout",
     "output_type": "stream",
     "text": [
      "The Top 5 features format for the Process Data Frame for the model Gradient Boosted Tree are as below : \n"
     ]
    },
    {
     "data": {
      "text/html": [
       "<div>\n",
       "<style scoped>\n",
       "    .dataframe tbody tr th:only-of-type {\n",
       "        vertical-align: middle;\n",
       "    }\n",
       "\n",
       "    .dataframe tbody tr th {\n",
       "        vertical-align: top;\n",
       "    }\n",
       "\n",
       "    .dataframe thead th {\n",
       "        text-align: right;\n",
       "    }\n",
       "</style>\n",
       "<table border=\"1\" class=\"dataframe\">\n",
       "  <thead>\n",
       "    <tr style=\"text-align: right;\">\n",
       "      <th></th>\n",
       "      <th>idx</th>\n",
       "      <th>name</th>\n",
       "      <th>score</th>\n",
       "    </tr>\n",
       "  </thead>\n",
       "  <tbody>\n",
       "    <tr>\n",
       "      <th>0</th>\n",
       "      <td>0</td>\n",
       "      <td>PID</td>\n",
       "      <td>0.223855</td>\n",
       "    </tr>\n",
       "    <tr>\n",
       "      <th>7</th>\n",
       "      <td>7</td>\n",
       "      <td>Status_vec_-</td>\n",
       "      <td>0.170028</td>\n",
       "    </tr>\n",
       "    <tr>\n",
       "      <th>8</th>\n",
       "      <td>8</td>\n",
       "      <td>Status_vec_0</td>\n",
       "      <td>0.151116</td>\n",
       "    </tr>\n",
       "    <tr>\n",
       "      <th>2</th>\n",
       "      <td>2</td>\n",
       "      <td>PRI</td>\n",
       "      <td>0.106803</td>\n",
       "    </tr>\n",
       "    <tr>\n",
       "      <th>4</th>\n",
       "      <td>4</td>\n",
       "      <td>POLI_vec_norm</td>\n",
       "      <td>0.100502</td>\n",
       "    </tr>\n",
       "  </tbody>\n",
       "</table>\n",
       "</div>"
      ],
      "text/plain": [
       "   idx           name     score\n",
       "0    0            PID  0.223855\n",
       "7    7   Status_vec_-  0.170028\n",
       "8    8   Status_vec_0  0.151116\n",
       "2    2            PRI  0.106803\n",
       "4    4  POLI_vec_norm  0.100502"
      ]
     },
     "execution_count": 50,
     "metadata": {},
     "output_type": "execute_result"
    }
   ],
   "source": [
    "print(\"The Top 5 features format for the Process Data Frame for the model Gradient Boosted Tree are as below : \")\n",
    "ExtractFeatureImp(model_process_gbt.stages[-1].featureImportances,predictions_process_gbt, \"features\").head(5)"
   ]
  },
  {
   "cell_type": "markdown",
   "metadata": {},
   "source": [
    "+ For both the data frames (i.e) the process and the memory data frame, model_process_gbt and model_memory_gbt pipleline model is much efficient. It can be seen that for the **Gradiant Boosting tree Model the AUC-ROC scores for these pipeline model is more than 80%**. Hence it is the **efficient model in predicting the attacks and Non-attacks more effectively.** \n",
    "\n",
    "+ Better Model For Memory Data Frame : **Gradient Boosting Tree**\n",
    "\n",
    "+ Better Model For Process Data Frame : **Gradient Boosting Tree**\n",
    "\n",
    "+ The **column \"TS\" should not be included** since it is the timestamp of the activity. It **does not play any significant role in predicting the target variable**. \n",
    "\n",
    "\n",
    "#### AUC-ROC CURVE"
   ]
  },
  {
   "cell_type": "code",
   "execution_count": 51,
   "metadata": {},
   "outputs": [],
   "source": [
    "from pyspark.mllib.evaluation import BinaryClassificationMetrics\n",
    "\n",
    "#Curve Metrics is a user defined call to generate the ROC curve.\n",
    "#It inherits from the BinaryClassificationMetrics\n",
    "class CurveMetrics(BinaryClassificationMetrics):\n",
    "    def __init__(self, *args):\n",
    "        super(CurveMetrics, self).__init__(*args)\n",
    "\n",
    "    def _to_list(self, rdd):\n",
    "        points = []\n",
    "        for row in rdd.collect():\n",
    "            points += [(float(row._1()), float(row._2()))]\n",
    "        return points\n",
    "\n",
    "    def get_curve(self, method):\n",
    "        rdd = getattr(self._java_model, method)().toJavaRDD()\n",
    "        return self._to_list(rdd)"
   ]
  },
  {
   "cell_type": "code",
   "execution_count": 52,
   "metadata": {},
   "outputs": [],
   "source": [
    "'''\n",
    "roc_curve_plot is a user defined function that takes in prediction from the pipeline model as input. \n",
    "It then renames the attack column to label and then calls the class defined above. \n",
    "Based on the values got, ROC curve is drawn.\n",
    "'''\n",
    "\n",
    "#User defined function\n",
    "def roc_curve_plot(predictions):\n",
    "    \n",
    "    #Evaluator to evaluate the ROC curve\n",
    "    evaluator = BinaryClassificationEvaluator(rawPredictionCol=\"rawPrediction\")\n",
    "    \n",
    "    #Renaming the column\n",
    "    predictions = predictions.withColumnRenamed(\"attack\", \"label\")\n",
    "    \n",
    "    #Printing the AUC-ROC curve value\n",
    "    print(\"Area Under ROC: \" + str(evaluator.evaluate(predictions, {evaluator.metricName: \"areaUnderROC\"})))\n",
    "    \n",
    "    #Converting the df to rdd to pass in to the class for desired outputs\n",
    "    preds = predictions.select('label','probability').rdd.map(lambda row: (float(row['probability'][1]), float(row['label'])))\n",
    "\n",
    "    # Returns as a list (false positive rate, true positive rate)\n",
    "    points = CurveMetrics(preds).get_curve('roc')\n",
    "    \n",
    "    #Plotting the AUC-ROC graph.\n",
    "    plt.figure()\n",
    "    x_val = [x[0] for x in points]\n",
    "    y_val = [x[1] for x in points]\n",
    "    plt.ylabel('TPR')\n",
    "    plt.xlabel('FPR')\n",
    "    plt.title('ROC Curve')\n",
    "    plt.plot(x_val, y_val)"
   ]
  },
  {
   "cell_type": "markdown",
   "metadata": {},
   "source": [
    "##### AUC-ROC Curve for Memory Data set Gradient Boosting Tree"
   ]
  },
  {
   "cell_type": "code",
   "execution_count": 53,
   "metadata": {},
   "outputs": [
    {
     "name": "stdout",
     "output_type": "stream",
     "text": [
      "Area Under ROC: 0.8150223436654845\n"
     ]
    },
    {
     "data": {
      "image/png": "[encoded data removed]",
      "text/plain": [
       "<Figure size 432x288 with 1 Axes>"
      ]
     },
     "metadata": {
      "needs_background": "light"
     },
     "output_type": "display_data"
    }
   ],
   "source": [
    "#Calling the user defined function to plot the AUC-ROC curve for Memory data frame\n",
    "#Gradient Boosting tree model since the AUC-ROC curve metric is better when compared to the Decision tree model\n",
    "roc_curve_plot(predictions_memory_gbt)"
   ]
  },
  {
   "cell_type": "markdown",
   "metadata": {},
   "source": [
    "##### AUC-ROC Curve for Process Data set Gradient Boosting Tree"
   ]
  },
  {
   "cell_type": "code",
   "execution_count": 54,
   "metadata": {},
   "outputs": [
    {
     "name": "stdout",
     "output_type": "stream",
     "text": [
      "Area Under ROC: 0.8052752799754097\n"
     ]
    },
    {
     "data": {
      "image/png": "[encoded data removed]",
      "text/plain": [
       "<Figure size 432x288 with 1 Axes>"
      ]
     },
     "metadata": {
      "needs_background": "light"
     },
     "output_type": "display_data"
    }
   ],
   "source": [
    "#Calling the user defined function to plot the AUC-ROC curve for Process data frame\n",
    "#Gradient Boosting tree model since the AUC-ROC curve metric is better when compared to the Decision tree model\n",
    "roc_curve_plot(predictions_process_gbt)"
   ]
  },
  {
   "cell_type": "markdown",
   "metadata": {},
   "source": [
    "### Using the pipeline model you selected in the previous step, re-train the pipeline model using a bigger set of rebalanced training data, with attack events and non-attack events being 1:2 ratio, while using all attack events data from the full data for both use cases. Then persist the better models for each use case.\n",
    "\n",
    "#### Process Data Frame Train data Rescale"
   ]
  },
  {
   "cell_type": "code",
   "execution_count": 55,
   "metadata": {},
   "outputs": [
    {
     "name": "stdout",
     "output_type": "stream",
     "text": [
      "Process training data has been rescaled and cached\n",
      "After re-sampling, the number of records in the process training data set is :  698828\n",
      "Based on the column 'Attack', below are the number of attacks(1) and non-attacks(0) in rescaled Process Training data frame: \n",
      "+------+------+\n",
      "|attack| count|\n",
      "+------+------+\n",
      "|     1|233285|\n",
      "|     0|465543|\n",
      "+------+------+\n",
      "\n"
     ]
    }
   ],
   "source": [
    "#getting the records of 1's in the process training data\n",
    "attack_process_df_part2 = train_process.filter(col(\"attack\") == 1)\n",
    "\n",
    "#getting the records of 0's in the process training data\n",
    "non_attack_process_df_part2 = train_process.filter(col(\"attack\") == 0)\n",
    "#non_attack_count = process_attack_count.filter(col(\"attack\") == 1).collect()[0][1]\n",
    "\n",
    "#Calculating the 40% value of the attack class\n",
    "non_attack_percentage_part2 = (attack_process_df_part2.count()*2)/non_attack_process_df.count()\n",
    "\n",
    "\n",
    "#Sampling for non-attack class in the data frame created above\n",
    "sampled_non_attack_df_part2 = non_attack_process_df_part2.sample(False,non_attack_percentage_part2)\n",
    "\n",
    "#Merging both the data frame\n",
    "rescaled_train_df_process_part2 = attack_process_df_part2.unionAll(sampled_non_attack_df_part2)\n",
    "\n",
    "#caching the rebalanced train process data\n",
    "rescaled_train_df_process_part2.cache()\n",
    "print(\"Process training data has been rescaled and cached\")\n",
    "\n",
    "#Displaying the count\n",
    "print(\"After re-sampling, the number of records in the process training data set is : \", rescaled_train_df_process_part2.count())\n",
    "\n",
    "#Getting the count of attacks and non-attacks in the process training set\n",
    "rescale_process_attack_count_part2 = rescaled_train_df_process_part2.groupBy(\"attack\").count()\n",
    "\n",
    "#displaying the count\n",
    "print(\"Based on the column 'Attack', below are the number of attacks(1) and non-attacks(0) in rescaled Process Training data frame: \")\n",
    "rescale_process_attack_count_part2.show()"
   ]
  },
  {
   "cell_type": "markdown",
   "metadata": {},
   "source": [
    "#### Memory Data Frame Train data Rescale"
   ]
  },
  {
   "cell_type": "code",
   "execution_count": 56,
   "metadata": {},
   "outputs": [
    {
     "name": "stdout",
     "output_type": "stream",
     "text": [
      "Memory training data has been rescaled and cached\n",
      "After re-sampling, the number of records in the memory training data set is :  492334\n",
      "Based on the column 'Attack', below are the number of attacks(1) and non-attacks(0) in rescaled Process Training data frame: \n",
      "+------+------+\n",
      "|attack| count|\n",
      "+------+------+\n",
      "|     1|164530|\n",
      "|     0|327804|\n",
      "+------+------+\n",
      "\n"
     ]
    }
   ],
   "source": [
    "#getting the records of 1's in the memory training data\n",
    "attack_memory_df_part2 = train_memory.filter(col(\"attack\") == 1)\n",
    "\n",
    "#getting the records of 0's in the memory training data\n",
    "non_attack_memory_df_part2 = train_memory.filter(col(\"attack\") == 0)\n",
    "\n",
    "#Calculating the 40% value of the attack class\n",
    "non_attack_percentage_part2 = (attack_memory_df_part2.count()*2)/non_attack_memory_df_part2.count()\n",
    "\n",
    "#Sampling for non-attack class in the data frame created above\n",
    "sampled_non_attack_df_part2 = non_attack_memory_df_part2.sample(False,non_attack_percentage_part2)\n",
    "\n",
    "#Merging both the data frame\n",
    "rescaled_train_df_memory_part2 = attack_memory_df_part2.union(sampled_non_attack_df_part2)\n",
    "\n",
    "#caching the rebalanced train memory data\n",
    "rescaled_train_df_memory_part2.cache()\n",
    "print(\"Memory training data has been rescaled and cached\")\n",
    "\n",
    "#Displaying the count\n",
    "print(\"After re-sampling, the number of records in the memory training data set is : \",rescaled_train_df_memory_part2.count())\n",
    "\n",
    "#Getting the count of attacks and non-attacks in the process training set\n",
    "rescale_memory_attack_count_part2 = rescaled_train_df_memory_part2.groupBy(\"attack\").count()\n",
    "\n",
    "#displaying the count\n",
    "print(\"Based on the column 'Attack', below are the number of attacks(1) and non-attacks(0) in rescaled Process Training data frame: \")\n",
    "rescale_memory_attack_count_part2.show()"
   ]
  },
  {
   "cell_type": "markdown",
   "metadata": {},
   "source": [
    "#### Pipeline Decision Tree Memory Data Frame "
   ]
  },
  {
   "cell_type": "code",
   "execution_count": 57,
   "metadata": {},
   "outputs": [
    {
     "name": "stdout",
     "output_type": "stream",
     "text": [
      "+--------------------+------+----------+\n",
      "|      scaledFeatures|attack|prediction|\n",
      "+--------------------+------+----------+\n",
      "|[0.31137553870896...|     0|       0.0|\n",
      "|[0.72251217234410...|     0|       0.0|\n",
      "|[0.54998162072936...|     0|       0.0|\n",
      "|[0.54479922618774...|     0|       0.0|\n",
      "|[0.60655609447537...|     0|       0.0|\n",
      "+--------------------+------+----------+\n",
      "only showing top 5 rows\n",
      "\n"
     ]
    }
   ],
   "source": [
    "# Train model.  This also runs the indexers.\n",
    "model_memory_dt_part2 = pipeline_dt_memory.fit(rescaled_train_df_memory_part2)\n",
    "\n",
    "# Make predictions.\n",
    "predictions_memory_dt_part2 =  model_memory_dt_part2.transform(test_memory)\n",
    "\n",
    "# Select example rows to display.\n",
    "predictions_memory_dt_part2.select(\"scaledFeatures\", \"attack\", \"prediction\").show(5)"
   ]
  },
  {
   "cell_type": "markdown",
   "metadata": {},
   "source": [
    "#### Pipeline Gradient Boosting Tree Memory Data Frame "
   ]
  },
  {
   "cell_type": "code",
   "execution_count": 58,
   "metadata": {},
   "outputs": [
    {
     "name": "stdout",
     "output_type": "stream",
     "text": [
      "+--------------------+------+----------+\n",
      "|      scaledFeatures|attack|prediction|\n",
      "+--------------------+------+----------+\n",
      "|[0.31137553870896...|     0|       0.0|\n",
      "|[0.72251217234410...|     0|       0.0|\n",
      "|[0.54998162072936...|     0|       0.0|\n",
      "|[0.54479922618774...|     0|       0.0|\n",
      "|[0.60655609447537...|     0|       0.0|\n",
      "+--------------------+------+----------+\n",
      "only showing top 5 rows\n",
      "\n"
     ]
    }
   ],
   "source": [
    "# Train model.  This also runs the indexers.\n",
    "model_memory_gbt_part2 = pipeline_gbt_memory.fit(rescaled_train_df_memory_part2)\n",
    "\n",
    "# Make predictions.\n",
    "predictions_memory_gbt_part2 =  model_memory_gbt_part2.transform(test_memory)\n",
    "\n",
    "# Select example rows to display.\n",
    "predictions_memory_gbt_part2.select(\"scaledFeatures\", \"attack\", \"prediction\").show(5)"
   ]
  },
  {
   "cell_type": "markdown",
   "metadata": {},
   "source": [
    "#### Pipeline Decision Tree Process Data Frame "
   ]
  },
  {
   "cell_type": "code",
   "execution_count": 59,
   "metadata": {},
   "outputs": [
    {
     "name": "stdout",
     "output_type": "stream",
     "text": [
      "+--------------------+------+----------+\n",
      "|      scaledFeatures|attack|prediction|\n",
      "+--------------------+------+----------+\n",
      "|(20,[0,1,2,3,4,10...|     0|       1.0|\n",
      "|(20,[0,1,2,3,4,10...|     0|       1.0|\n",
      "|(20,[0,1,2,4,10,1...|     0|       1.0|\n",
      "|(20,[0,1,2,4,10,1...|     0|       1.0|\n",
      "|(20,[0,1,2,4,10,1...|     0|       1.0|\n",
      "+--------------------+------+----------+\n",
      "only showing top 5 rows\n",
      "\n"
     ]
    }
   ],
   "source": [
    "# Train model.  This also runs the indexers.\n",
    "model_process_dt_part2 = pipeline_dt_process.fit(rescaled_train_df_process_part2)\n",
    "\n",
    "# Make predictions.\n",
    "predictions_process_dt_part2 =  model_process_dt_part2.transform(test_process)\n",
    "\n",
    "# Select example rows to display.\n",
    "predictions_process_dt_part2.select(\"scaledFeatures\", \"attack\", \"prediction\").show(5)"
   ]
  },
  {
   "cell_type": "markdown",
   "metadata": {},
   "source": [
    "#### Pipeline Gradient Boost Tree Process Data Frame "
   ]
  },
  {
   "cell_type": "code",
   "execution_count": 60,
   "metadata": {},
   "outputs": [
    {
     "name": "stdout",
     "output_type": "stream",
     "text": [
      "+--------------------+------+----------+\n",
      "|      scaledFeatures|attack|prediction|\n",
      "+--------------------+------+----------+\n",
      "|(20,[0,1,2,3,4,10...|     0|       1.0|\n",
      "|(20,[0,1,2,3,4,10...|     0|       0.0|\n",
      "|(20,[0,1,2,4,10,1...|     0|       0.0|\n",
      "|(20,[0,1,2,4,10,1...|     0|       0.0|\n",
      "|(20,[0,1,2,4,10,1...|     0|       0.0|\n",
      "+--------------------+------+----------+\n",
      "only showing top 5 rows\n",
      "\n"
     ]
    }
   ],
   "source": [
    "# Train model.  This also runs the indexers.\n",
    "model_process_gbt_part2 = pipeline_gbt_process.fit(rescaled_train_df_process_part2)\n",
    "\n",
    "# Make predictions.\n",
    "predictions_process_gbt_part2 =  model_process_gbt_part2.transform(test_process)\n",
    "\n",
    "# Select example rows to display.\n",
    "predictions_process_gbt_part2.select(\"scaledFeatures\", \"attack\", \"prediction\").show(5)"
   ]
  },
  {
   "cell_type": "markdown",
   "metadata": {},
   "source": [
    "#### Metric for rescaled test-data"
   ]
  },
  {
   "cell_type": "code",
   "execution_count": 61,
   "metadata": {},
   "outputs": [],
   "source": [
    "#Function call to get the metrics for decision tree model for Memory data frame\n",
    "memory_dt_metrics_part2 = compute_metrics(predictions_memory_dt_part2)\n",
    "\n",
    "#Function call to get the metrics for Gradient Boosting tree model for Memory data frame\n",
    "memory_gbt_metrics_part2 = compute_metrics(predictions_memory_gbt_part2)\n",
    "\n",
    "#Function call to get the metrics for decision tree model for Process data frame\n",
    "process_dt_metrics_part2 = compute_metrics(predictions_process_dt_part2)\n",
    "\n",
    "#Function call to get the metrics for Gradient Boosting tree model for Process data frame\n",
    "process_gbt_metrics_part2 = compute_metrics(predictions_process_gbt_part2)"
   ]
  },
  {
   "cell_type": "code",
   "execution_count": 62,
   "metadata": {},
   "outputs": [
    {
     "name": "stdout",
     "output_type": "stream",
     "text": [
      "For the Memory Data Frame, the metrics are as below : \n",
      "\n",
      "Decision Tree Metrics : \n",
      "\n",
      "AUC :  0.6128727498786041\n",
      "Accuracy :  0.8357277840326128\n",
      "Recall :  0.3783856131214562\n",
      "Precision :  0.2786109767241843\n",
      "\n",
      "Gradient Boosted Tree Metrics : \n",
      "\n",
      "AUC :  0.8039065619941312\n",
      "Accuracy :  0.8630707051542892\n",
      "Recall :  0.4388581996933784\n",
      "Precision :  0.36193954963272185\n",
      "\n",
      "\n",
      "For the Process Data Frame, the metrics are as below : \n",
      "\n",
      "Decision Tree Metrics : \n",
      "\n",
      "AUC :  0.6612742039691005\n",
      "Accuracy :  0.8127372067056474\n",
      "Recall :  0.42760722464229756\n",
      "Precision :  0.38880626223091974\n",
      "\n",
      "Gradient Boosted Tree Metrics : \n",
      "\n",
      "AUC :  0.7973967580259433\n",
      "Accuracy :  0.8228588896977485\n",
      "Recall :  0.43656054684137124\n",
      "Precision :  0.41560123262522947\n"
     ]
    }
   ],
   "source": [
    "print(\"For the Memory Data Frame, the metrics are as below : \")\n",
    "\n",
    "print(\"\\nDecision Tree Metrics : \")\n",
    "print(\"\\nAUC : \",memory_dt_metrics_part2[0])\n",
    "print(\"Accuracy : \",memory_dt_metrics_part2[1])\n",
    "print(\"Recall : \",memory_dt_metrics_part2[2])\n",
    "print(\"Precision : \",memory_dt_metrics_part2[3])\n",
    "\n",
    "print(\"\\nGradient Boosted Tree Metrics : \")\n",
    "print(\"\\nAUC : \",memory_gbt_metrics_part2[0])\n",
    "print(\"Accuracy : \",memory_gbt_metrics_part2[1])\n",
    "print(\"Recall : \",memory_gbt_metrics_part2[2])\n",
    "print(\"Precision : \",memory_gbt_metrics_part2[3])\n",
    "\n",
    "print(\"\\n\\nFor the Process Data Frame, the metrics are as below : \")\n",
    "\n",
    "print(\"\\nDecision Tree Metrics : \")\n",
    "print(\"\\nAUC : \",process_dt_metrics_part2[0])\n",
    "print(\"Accuracy : \",process_dt_metrics_part2[1])\n",
    "print(\"Recall : \",process_dt_metrics_part2[2])\n",
    "print(\"Precision : \",process_dt_metrics_part2[3])\n",
    "\n",
    "print(\"\\nGradient Boosted Tree Metrics : \")\n",
    "print(\"\\nAUC : \",process_gbt_metrics_part2[0])\n",
    "print(\"Accuracy : \",process_gbt_metrics_part2[1])\n",
    "print(\"Recall : \",process_gbt_metrics_part2[2])\n",
    "print(\"Precision : \",process_gbt_metrics_part2[3])"
   ]
  },
  {
   "cell_type": "markdown",
   "metadata": {},
   "source": [
    "+ When resampled the training data set also as per 2.3.5 requirements, it can be seen that for both the data frames (i.e) the process and the memory data frame, model_process_gbt and model_memory_gbt pipleline model is much efficient. It can be seen that for the **Gradiant Boosting tree Model the AUC-ROC scores for these pipeline model is more than 80%**. Hence it is the **efficient model in predicting the attacks and Non-attacks more effectively**.\n",
    "\n",
    "+ Better Model For Memory Data Frame : Gradient Boosting Tree\n",
    "\n",
    "+ Better Model For Process Data Frame : Gradient Boosting Tree"
   ]
  },
  {
   "cell_type": "markdown",
   "metadata": {},
   "source": [
    "## 3. Knowledge sharing (10%)\n",
    "\n",
    "### 3.1 How many jobs are observed when training the KMeans clustering model following the code below? Provide a screenshot from Spark UI for running a simple KMeans model training. (0.5%)"
   ]
  },
  {
   "cell_type": "code",
   "execution_count": 63,
   "metadata": {},
   "outputs": [],
   "source": [
    "from pyspark.ml.clustering import KMeans\n",
    "\n",
    "iris_df = spark.createDataFrame([\n",
    "(4.7, 3.2, 1.3, 0.2),\n",
    "(4.9, 3.1, 1.5, 0.1),\n",
    "(5.4, 3.9, 1.3, 0.4),\n",
    "(5.0, 3.4, 1.6, 0.4),\n",
    "(5.1, 3.8, 1.6, 0.2),\n",
    "(4.9, 2.4, 3.3, 1.0),\n",
    "(6.6, 2.9, 4.6, 1.3),\n",
    "(5.6, 3.0, 4.5, 1.5),\n",
    "(5.7, 2.6, 3.5, 1.0),\n",
    "(5.8, 2.6, 4.0, 1.2),\n",
    "(5.8, 2.8, 5.1, 2.4),\n",
    "(6.2, 2.8, 4.8, 1.8),\n",
    "(6.0, 3.0, 4.8, 1.8),\n",
    "(6.7, 3.1, 5.6, 2.4),\n",
    "(6.7, 3.0, 5.2, 2.3),\n",
    "(6.2, 3.4, 5.4, 2.3)],\n",
    "['sepal_length', 'sepal_width', 'petal_length', 'petal_width'])\n",
    "assembler = VectorAssembler(\n",
    "inputCols=['sepal_length', 'sepal_width', 'petal_length', 'petal_width'],\n",
    "outputCol='features')\n",
    "kmeans = KMeans(k=3).fit(assembler.transform(iris_df))\n"
   ]
  },
  {
   "attachments": {
    "K-Means%20Jobs.PNG": {
     "image/png": "[encoded data removed]"
    }
   },
   "cell_type": "markdown",
   "metadata": {},
   "source": [
    "![K-Means%20Jobs.PNG](attachment:K-Means%20Jobs.PNG)\n",
    "\n",
    "There are totally **10 Jobs observed when training the KMeans clustering model** from the above code. JOB IDs from 277 to 286 in the attached screen shot were used used for the KMeans clustering model."
   ]
  },
  {
   "cell_type": "markdown",
   "metadata": {},
   "source": [
    "### 3.2 Combining the KMeans algorithm from the lecture, explain what each job in Spark UI represents (9.5%)\n"
   ]
  },
  {
   "cell_type": "markdown",
   "metadata": {},
   "source": [
    "+ K-means is an **iterative algorithm**. During the clustering process, **for each iteration the points are assigned to it's the nearest centroid** based of distance factor-like Euclidean distance, Manhattan distance etc. Then **centroids are updated based on the assigned points after each iteration.** Until a **certain quality metric is satisfied, this process is repeated**. Initial centroids are computed using one of the numbers of possible methods including random centroids and K-means.\n",
    "\n",
    "+ From the above-attached Image, it can be seen that **there are 10 Jobs.** \n",
    "\n",
    "+ **Two processors** are working on the KMeans algorithm. **In each processor, clustering is done. This is Data Parallelism**. Also in **data parallelism only SUM and COUNT will take place since each processor will be working on all three clusters**. In result parallelism sum and count won't be there since each processor will work in each cluster. \n",
    "\n",
    "    + **277,278  - takeSample**\n",
    "    \n",
    "        +  It starts with K(given) randomly selected points or the mean of the data from the dataset as centre points\n",
    "    \n",
    "    + **279,281  - sum**\n",
    "\n",
    "        + Sums up the values of data points for each cluster in the processor \n",
    "\n",
    "    + **280,282  - collect**\n",
    "    \n",
    "        + Counts the number of values/data points for each cluster in the processor.\n",
    "    \n",
    "    + **284,285  - collectAsMap**\n",
    "\n",
    "        + The data is fetched to the driver and broadcasted to be used in the next iteration.\n",
    "\n",
    "    + **283  - countBy Value**\n",
    "    \n",
    "        + Based on the Sum value after each iteration aggregation of the sum Value is performed through which new centroids are computed.\n",
    "\n",
    "    + **286  - collect at ClusteringSummary**\n",
    "    \n",
    "        + Union of the clusters from each processor is done. Cluster 1 from processor 1 will be unioned with Cluster 1 from processor 2 and likewise. Cluster's summary is collected and stored in the variable. "
   ]
  },
  {
   "cell_type": "markdown",
   "metadata": {},
   "source": [
    "### REFERENCES:\n",
    "\n",
    "1. Jun Wan [Feb 10], Oversampling and Undersampling with PySpark , \n",
    "https://medium.com/@junwan01/oversampling-and-undersampling-with-pyspark-5dbc25cdf253\n",
    "\n",
    "2. jrjc, [Apr 3 '15], Plot correlation matrix using pandas,\n",
    "https://stackoverflow.com/questions/29432629/plot-correlation-matrix-using-pandas\n",
    "\n",
    "3. Timothy Lin, [June 19, 2018] , Feature Selection Using Feature Importance Score - Creating a PySpark Estimator,\n",
    "https://www.timlrx.com/2018/06/19/feature-selection-using-feature-importance-score-creating-a-pyspark-estimator/\n",
    "\n",
    "4. Alex Ross, [Aug 3 '19] , PySpark: Get Threshold (cuttoff) values for each point in ROC curve,\n",
    "https://stackoverflow.com/questions/54425084/pyspark-get-threshold-cuttoff-values-for-each-point-in-roc-curve\n",
    "\n",
    "5. Lecture materials from week 5,6,7 and Lab materials from week 5,6 and 7 provided by FIT5202.\n",
    "\n",
    "6. Alper t. Turker,[Sep 15 '17], when running spark mllib kmeans, What is the role of each stage on website?\n",
    "https://stackoverflow.com/questions/46236955/when-running-spark-mllib-kmeans-what-is-the-role-of-each-stage-on-website\n",
    "\n",
    "7. Clare S. Y. Huang [01 Aug 2020], Custom Transformer that can be fitted into Pipeline\n",
    "https://csyhuang.github.io/2020/08/01/custom-transformer/"
   ]
  }
 ],
 "metadata": {
  "kernelspec": {
   "display_name": "Python 3",
   "language": "python",
   "name": "python3"
  },
  "language_info": {
   "codemirror_mode": {
    "name": "ipython",
    "version": 3
   },
   "file_extension": ".py",
   "mimetype": "text/x-python",
   "name": "python",
   "nbconvert_exporter": "python",
   "pygments_lexer": "ipython3",
   "version": "3.8.2"
  }
 },
 "nbformat": 4,
 "nbformat_minor": 4
}
